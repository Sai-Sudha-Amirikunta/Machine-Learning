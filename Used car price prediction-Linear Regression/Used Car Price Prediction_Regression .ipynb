{
 "cells": [
  {
   "cell_type": "markdown",
   "metadata": {},
   "source": [
    "## Used Car Price Prediction_Regression"
   ]
  },
  {
   "cell_type": "markdown",
   "metadata": {},
   "source": [
    "model age 2020-2015"
   ]
  },
  {
   "cell_type": "code",
   "execution_count": 70,
   "metadata": {},
   "outputs": [],
   "source": [
    "# to handle datasets\n",
    "import pandas as pd\n",
    "import numpy as np\n",
    "\n",
    "# Matplotlib and seaborn for visualization\n",
    "import matplotlib.pyplot as plt\n",
    "import seaborn as sns\n",
    "\n",
    "# to divide train and test set\n",
    "from sklearn.model_selection import train_test_split\n",
    "\n",
    "# feature scaling\n",
    "from sklearn.preprocessing import StandardScaler\n",
    "\n",
    "# to build the models\n",
    "from sklearn.linear_model import LinearRegression, Lasso\n",
    "from sklearn.ensemble import RandomForestRegressor\n",
    "from sklearn.svm import SVR\n",
    "\n",
    "# to evaluate the models\n",
    "from sklearn.metrics import mean_squared_error\n",
    "\n",
    "import warnings\n",
    "warnings.filterwarnings('ignore')"
   ]
  },
  {
   "cell_type": "code",
   "execution_count": 71,
   "metadata": {},
   "outputs": [
    {
     "data": {
      "text/html": [
       "<div>\n",
       "<style scoped>\n",
       "    .dataframe tbody tr th:only-of-type {\n",
       "        vertical-align: middle;\n",
       "    }\n",
       "\n",
       "    .dataframe tbody tr th {\n",
       "        vertical-align: top;\n",
       "    }\n",
       "\n",
       "    .dataframe thead th {\n",
       "        text-align: right;\n",
       "    }\n",
       "</style>\n",
       "<table border=\"1\" class=\"dataframe\">\n",
       "  <thead>\n",
       "    <tr style=\"text-align: right;\">\n",
       "      <th></th>\n",
       "      <th>Unnamed: 0</th>\n",
       "      <th>Name</th>\n",
       "      <th>Location</th>\n",
       "      <th>Year</th>\n",
       "      <th>Kilometers_Driven</th>\n",
       "      <th>Fuel_Type</th>\n",
       "      <th>Transmission</th>\n",
       "      <th>Owner_Type</th>\n",
       "      <th>Mileage</th>\n",
       "      <th>Engine</th>\n",
       "      <th>Power</th>\n",
       "      <th>Seats</th>\n",
       "      <th>New_Price</th>\n",
       "      <th>Price</th>\n",
       "    </tr>\n",
       "  </thead>\n",
       "  <tbody>\n",
       "    <tr>\n",
       "      <th>0</th>\n",
       "      <td>0</td>\n",
       "      <td>Maruti Wagon R LXI CNG</td>\n",
       "      <td>Mumbai</td>\n",
       "      <td>2010</td>\n",
       "      <td>72000</td>\n",
       "      <td>CNG</td>\n",
       "      <td>Manual</td>\n",
       "      <td>First</td>\n",
       "      <td>26.6 km/kg</td>\n",
       "      <td>998 CC</td>\n",
       "      <td>58.16 bhp</td>\n",
       "      <td>5.0</td>\n",
       "      <td>NaN</td>\n",
       "      <td>1.75</td>\n",
       "    </tr>\n",
       "    <tr>\n",
       "      <th>1</th>\n",
       "      <td>1</td>\n",
       "      <td>Hyundai Creta 1.6 CRDi SX Option</td>\n",
       "      <td>Pune</td>\n",
       "      <td>2015</td>\n",
       "      <td>41000</td>\n",
       "      <td>Diesel</td>\n",
       "      <td>Manual</td>\n",
       "      <td>First</td>\n",
       "      <td>19.67 kmpl</td>\n",
       "      <td>1582 CC</td>\n",
       "      <td>126.2 bhp</td>\n",
       "      <td>5.0</td>\n",
       "      <td>NaN</td>\n",
       "      <td>12.50</td>\n",
       "    </tr>\n",
       "    <tr>\n",
       "      <th>2</th>\n",
       "      <td>2</td>\n",
       "      <td>Honda Jazz V</td>\n",
       "      <td>Chennai</td>\n",
       "      <td>2011</td>\n",
       "      <td>46000</td>\n",
       "      <td>Petrol</td>\n",
       "      <td>Manual</td>\n",
       "      <td>First</td>\n",
       "      <td>18.2 kmpl</td>\n",
       "      <td>1199 CC</td>\n",
       "      <td>88.7 bhp</td>\n",
       "      <td>5.0</td>\n",
       "      <td>8.61 Lakh</td>\n",
       "      <td>4.50</td>\n",
       "    </tr>\n",
       "    <tr>\n",
       "      <th>3</th>\n",
       "      <td>3</td>\n",
       "      <td>Maruti Ertiga VDI</td>\n",
       "      <td>Chennai</td>\n",
       "      <td>2012</td>\n",
       "      <td>87000</td>\n",
       "      <td>Diesel</td>\n",
       "      <td>Manual</td>\n",
       "      <td>First</td>\n",
       "      <td>20.77 kmpl</td>\n",
       "      <td>1248 CC</td>\n",
       "      <td>88.76 bhp</td>\n",
       "      <td>7.0</td>\n",
       "      <td>NaN</td>\n",
       "      <td>6.00</td>\n",
       "    </tr>\n",
       "    <tr>\n",
       "      <th>4</th>\n",
       "      <td>4</td>\n",
       "      <td>Audi A4 New 2.0 TDI Multitronic</td>\n",
       "      <td>Coimbatore</td>\n",
       "      <td>2013</td>\n",
       "      <td>40670</td>\n",
       "      <td>Diesel</td>\n",
       "      <td>Automatic</td>\n",
       "      <td>Second</td>\n",
       "      <td>15.2 kmpl</td>\n",
       "      <td>1968 CC</td>\n",
       "      <td>140.8 bhp</td>\n",
       "      <td>5.0</td>\n",
       "      <td>NaN</td>\n",
       "      <td>17.74</td>\n",
       "    </tr>\n",
       "  </tbody>\n",
       "</table>\n",
       "</div>"
      ],
      "text/plain": [
       "   Unnamed: 0                              Name    Location  Year  \\\n",
       "0           0            Maruti Wagon R LXI CNG      Mumbai  2010   \n",
       "1           1  Hyundai Creta 1.6 CRDi SX Option        Pune  2015   \n",
       "2           2                      Honda Jazz V     Chennai  2011   \n",
       "3           3                 Maruti Ertiga VDI     Chennai  2012   \n",
       "4           4   Audi A4 New 2.0 TDI Multitronic  Coimbatore  2013   \n",
       "\n",
       "   Kilometers_Driven Fuel_Type Transmission Owner_Type     Mileage   Engine  \\\n",
       "0              72000       CNG       Manual      First  26.6 km/kg   998 CC   \n",
       "1              41000    Diesel       Manual      First  19.67 kmpl  1582 CC   \n",
       "2              46000    Petrol       Manual      First   18.2 kmpl  1199 CC   \n",
       "3              87000    Diesel       Manual      First  20.77 kmpl  1248 CC   \n",
       "4              40670    Diesel    Automatic     Second   15.2 kmpl  1968 CC   \n",
       "\n",
       "       Power  Seats  New_Price  Price  \n",
       "0  58.16 bhp    5.0        NaN   1.75  \n",
       "1  126.2 bhp    5.0        NaN  12.50  \n",
       "2   88.7 bhp    5.0  8.61 Lakh   4.50  \n",
       "3  88.76 bhp    7.0        NaN   6.00  \n",
       "4  140.8 bhp    5.0        NaN  17.74  "
      ]
     },
     "execution_count": 71,
     "metadata": {},
     "output_type": "execute_result"
    }
   ],
   "source": [
    "# load dataset\n",
    "df= pd.read_csv('train-data.csv')\n",
    "df.head()"
   ]
  },
  {
   "cell_type": "code",
   "execution_count": 72,
   "metadata": {},
   "outputs": [
    {
     "data": {
      "text/plain": [
       "(6019, 14)"
      ]
     },
     "execution_count": 72,
     "metadata": {},
     "output_type": "execute_result"
    }
   ],
   "source": [
    "df.shape"
   ]
  },
  {
   "cell_type": "markdown",
   "metadata": {},
   "source": [
    "Data has 6019 rows and 14 columns."
   ]
  },
  {
   "cell_type": "markdown",
   "metadata": {},
   "source": [
    "**Feature Description**\n",
    "* Name: The brand and model of the car.\n",
    "* Location: The location in which the car is being sold or is available for purchase.\n",
    "* Year: The year or edition of the model.\n",
    "* Kilometers_Driven: The total kilometres driven in the car by the previous owner(s) in KM.\n",
    "* Fuel_Type: The type of fuel used by the car. (Petrol / Diesel / Electric / CNG / LPG)\n",
    "* Transmission: The type of transmission used by the car. (Automatic / Manual)\n",
    "* Owner_Type: Whether the ownership is Firsthand, Second hand or other.\n",
    "* Mileage: The standard mileage offered by the car company in kmpl or km/kg\n",
    "* Engine: The displacement volume of the engine in cc.\n",
    "* Power: The maximum power of the engine in bhp.\n",
    "* Seats: The number of seats in the car.\n",
    "* New_Price: The price of a new car of the same model.\n",
    "* Price: The price of the used car in INR Lakhs."
   ]
  },
  {
   "cell_type": "code",
   "execution_count": 73,
   "metadata": {},
   "outputs": [
    {
     "data": {
      "text/plain": [
       "Unnamed: 0             int64\n",
       "Name                  object\n",
       "Location              object\n",
       "Year                   int64\n",
       "Kilometers_Driven      int64\n",
       "Fuel_Type             object\n",
       "Transmission          object\n",
       "Owner_Type            object\n",
       "Mileage               object\n",
       "Engine                object\n",
       "Power                 object\n",
       "Seats                float64\n",
       "New_Price             object\n",
       "Price                float64\n",
       "dtype: object"
      ]
     },
     "execution_count": 73,
     "metadata": {},
     "output_type": "execute_result"
    }
   ],
   "source": [
    "# let's inspect the type of variables in pandas\n",
    "df.dtypes"
   ]
  },
  {
   "cell_type": "markdown",
   "metadata": {},
   "source": [
    "There are a mixture of categorical and numerical variables. Numerical are those of type int and float. Categorical those of type object.\n",
    "\n",
    "There are 9 categorical variables and 5 numerical variables"
   ]
  },
  {
   "cell_type": "markdown",
   "metadata": {},
   "source": [
    "## Data Cleaning and preprocessing"
   ]
  },
  {
   "cell_type": "code",
   "execution_count": 74,
   "metadata": {},
   "outputs": [
    {
     "data": {
      "text/plain": [
       "Unnamed: 0            0.000000\n",
       "Name                  0.000000\n",
       "Location              0.000000\n",
       "Year                  0.000000\n",
       "Kilometers_Driven     0.000000\n",
       "Fuel_Type             0.000000\n",
       "Transmission          0.000000\n",
       "Owner_Type            0.000000\n",
       "Mileage               0.033228\n",
       "Engine                0.598106\n",
       "Power                 0.598106\n",
       "Seats                 0.697790\n",
       "New_Price            86.310018\n",
       "Price                 0.000000\n",
       "dtype: float64"
      ]
     },
     "execution_count": 74,
     "metadata": {},
     "output_type": "execute_result"
    }
   ],
   "source": [
    "# percentage of null values\n",
    "(df.isnull().sum()/len(df))*100"
   ]
  },
  {
   "cell_type": "markdown",
   "metadata": {},
   "source": [
    "86.31% of the `New_Price` column has null values and a few null values are present in `Mileage`, `Engine`, `Power` and `Seat` columns.\n",
    "\n",
    "As there are more than 86% of missing value in `New_Price` column we can drop this feature."
   ]
  },
  {
   "cell_type": "code",
   "execution_count": 75,
   "metadata": {},
   "outputs": [
    {
     "data": {
      "text/plain": [
       "Index(['Unnamed: 0', 'Name', 'Location', 'Year', 'Kilometers_Driven',\n",
       "       'Fuel_Type', 'Transmission', 'Owner_Type', 'Mileage', 'Engine', 'Power',\n",
       "       'Seats', 'New_Price', 'Price'],\n",
       "      dtype='object')"
      ]
     },
     "execution_count": 75,
     "metadata": {},
     "output_type": "execute_result"
    }
   ],
   "source": [
    "df.columns"
   ]
  },
  {
   "cell_type": "markdown",
   "metadata": {},
   "source": [
    "We can remove the `Unnamed: 0` column as it only gives the serial numbers of the data. "
   ]
  },
  {
   "cell_type": "code",
   "execution_count": 76,
   "metadata": {},
   "outputs": [],
   "source": [
    "data = df.drop('Unnamed: 0',axis=1)"
   ]
  },
  {
   "cell_type": "markdown",
   "metadata": {},
   "source": [
    "There are 1876 Unique car names in the `Name` column. So creating a new column `Manufacturer` by extracting the manufacturer of the\n",
    "from the `Name` column. For this we need to simply extract the string before the space. "
   ]
  },
  {
   "cell_type": "markdown",
   "metadata": {},
   "source": [
    "**Name**"
   ]
  },
  {
   "cell_type": "code",
   "execution_count": 77,
   "metadata": {},
   "outputs": [],
   "source": [
    "# str.split() by space\n",
    "data['Name'] = data['Name'].apply(lambda x: x.split(\" \")[0])\n",
    "#renaming column Name to Manufacturer \n",
    "data.rename(columns = {'Name':'Manufacturer'}, inplace = True)"
   ]
  },
  {
   "cell_type": "code",
   "execution_count": 78,
   "metadata": {},
   "outputs": [
    {
     "data": {
      "text/plain": [
       "array(['Maruti', 'Hyundai', 'Honda', 'Audi', 'Nissan', 'Toyota',\n",
       "       'Volkswagen', 'Tata', 'Land', 'Mitsubishi', 'Renault',\n",
       "       'Mercedes-Benz', 'BMW', 'Mahindra', 'Ford', 'Porsche', 'Datsun',\n",
       "       'Jaguar', 'Volvo', 'Chevrolet', 'Skoda', 'Mini', 'Fiat', 'Jeep',\n",
       "       'Smart', 'Ambassador', 'Isuzu', 'ISUZU', 'Force', 'Bentley',\n",
       "       'Lamborghini'], dtype=object)"
      ]
     },
     "execution_count": 78,
     "metadata": {},
     "output_type": "execute_result"
    }
   ],
   "source": [
    "data['Manufacturer'].unique()"
   ]
  },
  {
   "cell_type": "markdown",
   "metadata": {},
   "source": [
    "Notice that Isuzu in few columns is in capitals.So, replacing 'ISUZU' with 'Isuzu'"
   ]
  },
  {
   "cell_type": "code",
   "execution_count": 79,
   "metadata": {},
   "outputs": [],
   "source": [
    "data['Manufacturer'] = data['Manufacturer'].replace('ISUZU','Isuzu')"
   ]
  },
  {
   "cell_type": "markdown",
   "metadata": {},
   "source": [
    "**Mileage**"
   ]
  },
  {
   "cell_type": "code",
   "execution_count": 80,
   "metadata": {},
   "outputs": [
    {
     "name": "stdout",
     "output_type": "stream",
     "text": [
      "Number of Electric car records:  2\n"
     ]
    },
    {
     "data": {
      "text/html": [
       "<div>\n",
       "<style scoped>\n",
       "    .dataframe tbody tr th:only-of-type {\n",
       "        vertical-align: middle;\n",
       "    }\n",
       "\n",
       "    .dataframe tbody tr th {\n",
       "        vertical-align: top;\n",
       "    }\n",
       "\n",
       "    .dataframe thead th {\n",
       "        text-align: right;\n",
       "    }\n",
       "</style>\n",
       "<table border=\"1\" class=\"dataframe\">\n",
       "  <thead>\n",
       "    <tr style=\"text-align: right;\">\n",
       "      <th></th>\n",
       "      <th>Fuel_Type</th>\n",
       "      <th>Mileage</th>\n",
       "    </tr>\n",
       "  </thead>\n",
       "  <tbody>\n",
       "    <tr>\n",
       "      <th>4446</th>\n",
       "      <td>Electric</td>\n",
       "      <td>NaN</td>\n",
       "    </tr>\n",
       "    <tr>\n",
       "      <th>4904</th>\n",
       "      <td>Electric</td>\n",
       "      <td>NaN</td>\n",
       "    </tr>\n",
       "  </tbody>\n",
       "</table>\n",
       "</div>"
      ],
      "text/plain": [
       "     Fuel_Type Mileage\n",
       "4446  Electric     NaN\n",
       "4904  Electric     NaN"
      ]
     },
     "execution_count": 80,
     "metadata": {},
     "output_type": "execute_result"
    }
   ],
   "source": [
    "#null values in mileage column\n",
    "print('Number of Electric car records: ',len(data[data['Fuel_Type']=='Electric']))\n",
    "data[data['Mileage'].isnull()==True][['Fuel_Type','Mileage']]"
   ]
  },
  {
   "cell_type": "markdown",
   "metadata": {},
   "source": [
    "There are only 2 missing values in the Mileage column. We cannot impute the missing value as the these are for Electric car and there are only 2 records of electric cars in the data. So dropping the records with missing values for Electric car."
   ]
  },
  {
   "cell_type": "code",
   "execution_count": 81,
   "metadata": {},
   "outputs": [],
   "source": [
    "data =  data.dropna(axis=0, subset=['Mileage'])"
   ]
  },
  {
   "cell_type": "markdown",
   "metadata": {},
   "source": [
    "There are two measurement units of mileage are included in the dataset i.e., km/kg and kmpl in mileage column. As km/kg is used for non liquid fuels it might not be justified to convert them into kmpl units. \n",
    "\n",
    "so, creating a new column called 'Mileage_units'."
   ]
  },
  {
   "cell_type": "code",
   "execution_count": 82,
   "metadata": {},
   "outputs": [],
   "source": [
    "Mileage = data[\"Mileage\"].str.split(\" \", expand = True)\n",
    "data['Mileage'] = Mileage[0].astype(float)\n",
    "data['Mileage_units'] = Mileage[1]"
   ]
  },
  {
   "cell_type": "code",
   "execution_count": 83,
   "metadata": {
    "scrolled": false
   },
   "outputs": [
    {
     "data": {
      "text/plain": [
       "68"
      ]
     },
     "execution_count": 83,
     "metadata": {},
     "output_type": "execute_result"
    }
   ],
   "source": [
    "len(data[data['Mileage']==0])"
   ]
  },
  {
   "cell_type": "markdown",
   "metadata": {},
   "source": [
    "There are 68 rows with Mileage value as zero. Replacing with mode of the Mileage values with respect to the Manufacturer."
   ]
  },
  {
   "cell_type": "code",
   "execution_count": 84,
   "metadata": {},
   "outputs": [
    {
     "data": {
      "text/plain": [
       "array(['Land', 'Mercedes-Benz', 'Hyundai', 'Honda', 'Ford', 'Volkswagen',\n",
       "       'Smart', 'Maruti', 'Mahindra', 'Toyota', 'Skoda', 'Audi', 'Fiat'],\n",
       "      dtype=object)"
      ]
     },
     "execution_count": 84,
     "metadata": {},
     "output_type": "execute_result"
    }
   ],
   "source": [
    "data[data['Mileage']==0]['Manufacturer'].unique()"
   ]
  },
  {
   "cell_type": "code",
   "execution_count": 85,
   "metadata": {},
   "outputs": [],
   "source": [
    "Manufacturer = ['Land', 'Mercedes-Benz', 'Hyundai', 'Honda', 'Ford', 'Volkswagen',\n",
    "        'Maruti', 'Mahindra', 'Toyota', 'Skoda', 'Audi', 'Fiat']\n",
    "for c in Manufacturer:\n",
    "    a = ((data['Manufacturer'] == c) & (data['Mileage'].isnull()))\n",
    "    data.loc[a,'Mileage'] = data.loc[a, 'Mileage'].fillna(data[data['Manufacturer'] == c]['Mileage'].mode()[0])"
   ]
  },
  {
   "cell_type": "markdown",
   "metadata": {},
   "source": [
    "Replaced all the Zeros except for one row with Manufacturer as 'Smart'. As it contains only one record, so could not use mode to immpute the zero value. Instead replaced with the value of mean of Mileage of all the records with similar 'Fuel_Type', 'Transmission' and 'Price'."
   ]
  },
  {
   "cell_type": "code",
   "execution_count": 86,
   "metadata": {},
   "outputs": [],
   "source": [
    "data['Mileage'] = data['Mileage'].replace(0,\n",
    "                                           data[(data['Fuel_Type']=='Diesel') & (data['Transmission']=='Automatic') & \n",
    "                                                (data['Price']<4)]['Mileage'].mean())"
   ]
  },
  {
   "cell_type": "markdown",
   "metadata": {},
   "source": [
    "**Engine** "
   ]
  },
  {
   "cell_type": "code",
   "execution_count": 87,
   "metadata": {},
   "outputs": [],
   "source": [
    "data['Engine'] = data[\"Engine\"].str.split(\" \", expand = True)[0].astype(float)"
   ]
  },
  {
   "cell_type": "code",
   "execution_count": 88,
   "metadata": {
    "scrolled": true
   },
   "outputs": [
    {
     "data": {
      "text/html": [
       "<div>\n",
       "<style scoped>\n",
       "    .dataframe tbody tr th:only-of-type {\n",
       "        vertical-align: middle;\n",
       "    }\n",
       "\n",
       "    .dataframe tbody tr th {\n",
       "        vertical-align: top;\n",
       "    }\n",
       "\n",
       "    .dataframe thead th {\n",
       "        text-align: right;\n",
       "    }\n",
       "</style>\n",
       "<table border=\"1\" class=\"dataframe\">\n",
       "  <thead>\n",
       "    <tr style=\"text-align: right;\">\n",
       "      <th></th>\n",
       "      <th>Manufacturer</th>\n",
       "      <th>Location</th>\n",
       "      <th>Year</th>\n",
       "      <th>Kilometers_Driven</th>\n",
       "      <th>Fuel_Type</th>\n",
       "      <th>Transmission</th>\n",
       "      <th>Owner_Type</th>\n",
       "      <th>Mileage</th>\n",
       "      <th>Engine</th>\n",
       "      <th>Power</th>\n",
       "      <th>Seats</th>\n",
       "      <th>New_Price</th>\n",
       "      <th>Price</th>\n",
       "      <th>Mileage_units</th>\n",
       "    </tr>\n",
       "  </thead>\n",
       "  <tbody>\n",
       "    <tr>\n",
       "      <th>194</th>\n",
       "      <td>Honda</td>\n",
       "      <td>Ahmedabad</td>\n",
       "      <td>2007</td>\n",
       "      <td>60006</td>\n",
       "      <td>Petrol</td>\n",
       "      <td>Manual</td>\n",
       "      <td>First</td>\n",
       "      <td>13.30</td>\n",
       "      <td>NaN</td>\n",
       "      <td>NaN</td>\n",
       "      <td>NaN</td>\n",
       "      <td>NaN</td>\n",
       "      <td>2.95</td>\n",
       "      <td>kmpl</td>\n",
       "    </tr>\n",
       "    <tr>\n",
       "      <th>208</th>\n",
       "      <td>Maruti</td>\n",
       "      <td>Kolkata</td>\n",
       "      <td>2010</td>\n",
       "      <td>42001</td>\n",
       "      <td>Petrol</td>\n",
       "      <td>Manual</td>\n",
       "      <td>First</td>\n",
       "      <td>16.10</td>\n",
       "      <td>NaN</td>\n",
       "      <td>NaN</td>\n",
       "      <td>NaN</td>\n",
       "      <td>NaN</td>\n",
       "      <td>2.11</td>\n",
       "      <td>kmpl</td>\n",
       "    </tr>\n",
       "    <tr>\n",
       "      <th>733</th>\n",
       "      <td>Maruti</td>\n",
       "      <td>Chennai</td>\n",
       "      <td>2006</td>\n",
       "      <td>97800</td>\n",
       "      <td>Petrol</td>\n",
       "      <td>Manual</td>\n",
       "      <td>Third</td>\n",
       "      <td>16.10</td>\n",
       "      <td>NaN</td>\n",
       "      <td>NaN</td>\n",
       "      <td>NaN</td>\n",
       "      <td>NaN</td>\n",
       "      <td>1.75</td>\n",
       "      <td>kmpl</td>\n",
       "    </tr>\n",
       "    <tr>\n",
       "      <th>749</th>\n",
       "      <td>Land</td>\n",
       "      <td>Mumbai</td>\n",
       "      <td>2008</td>\n",
       "      <td>55001</td>\n",
       "      <td>Diesel</td>\n",
       "      <td>Automatic</td>\n",
       "      <td>Second</td>\n",
       "      <td>13.30</td>\n",
       "      <td>NaN</td>\n",
       "      <td>NaN</td>\n",
       "      <td>NaN</td>\n",
       "      <td>NaN</td>\n",
       "      <td>26.50</td>\n",
       "      <td>kmpl</td>\n",
       "    </tr>\n",
       "    <tr>\n",
       "      <th>1294</th>\n",
       "      <td>Honda</td>\n",
       "      <td>Delhi</td>\n",
       "      <td>2009</td>\n",
       "      <td>55005</td>\n",
       "      <td>Petrol</td>\n",
       "      <td>Manual</td>\n",
       "      <td>First</td>\n",
       "      <td>12.80</td>\n",
       "      <td>NaN</td>\n",
       "      <td>NaN</td>\n",
       "      <td>NaN</td>\n",
       "      <td>NaN</td>\n",
       "      <td>3.20</td>\n",
       "      <td>kmpl</td>\n",
       "    </tr>\n",
       "    <tr>\n",
       "      <th>1327</th>\n",
       "      <td>Maruti</td>\n",
       "      <td>Hyderabad</td>\n",
       "      <td>2015</td>\n",
       "      <td>50295</td>\n",
       "      <td>Petrol</td>\n",
       "      <td>Manual</td>\n",
       "      <td>First</td>\n",
       "      <td>16.10</td>\n",
       "      <td>NaN</td>\n",
       "      <td>NaN</td>\n",
       "      <td>NaN</td>\n",
       "      <td>NaN</td>\n",
       "      <td>5.80</td>\n",
       "      <td>kmpl</td>\n",
       "    </tr>\n",
       "    <tr>\n",
       "      <th>1385</th>\n",
       "      <td>Honda</td>\n",
       "      <td>Pune</td>\n",
       "      <td>2004</td>\n",
       "      <td>115000</td>\n",
       "      <td>Petrol</td>\n",
       "      <td>Manual</td>\n",
       "      <td>Second</td>\n",
       "      <td>13.30</td>\n",
       "      <td>NaN</td>\n",
       "      <td>NaN</td>\n",
       "      <td>NaN</td>\n",
       "      <td>NaN</td>\n",
       "      <td>1.50</td>\n",
       "      <td>kmpl</td>\n",
       "    </tr>\n",
       "    <tr>\n",
       "      <th>1460</th>\n",
       "      <td>Land</td>\n",
       "      <td>Coimbatore</td>\n",
       "      <td>2008</td>\n",
       "      <td>69078</td>\n",
       "      <td>Petrol</td>\n",
       "      <td>Manual</td>\n",
       "      <td>First</td>\n",
       "      <td>13.30</td>\n",
       "      <td>NaN</td>\n",
       "      <td>NaN</td>\n",
       "      <td>NaN</td>\n",
       "      <td>NaN</td>\n",
       "      <td>40.88</td>\n",
       "      <td>kmpl</td>\n",
       "    </tr>\n",
       "    <tr>\n",
       "      <th>2074</th>\n",
       "      <td>Maruti</td>\n",
       "      <td>Pune</td>\n",
       "      <td>2011</td>\n",
       "      <td>24255</td>\n",
       "      <td>Petrol</td>\n",
       "      <td>Manual</td>\n",
       "      <td>First</td>\n",
       "      <td>16.10</td>\n",
       "      <td>NaN</td>\n",
       "      <td>NaN</td>\n",
       "      <td>NaN</td>\n",
       "      <td>NaN</td>\n",
       "      <td>3.15</td>\n",
       "      <td>kmpl</td>\n",
       "    </tr>\n",
       "    <tr>\n",
       "      <th>2096</th>\n",
       "      <td>Hyundai</td>\n",
       "      <td>Coimbatore</td>\n",
       "      <td>2004</td>\n",
       "      <td>52146</td>\n",
       "      <td>Petrol</td>\n",
       "      <td>Manual</td>\n",
       "      <td>First</td>\n",
       "      <td>13.30</td>\n",
       "      <td>NaN</td>\n",
       "      <td>NaN</td>\n",
       "      <td>NaN</td>\n",
       "      <td>NaN</td>\n",
       "      <td>1.93</td>\n",
       "      <td>kmpl</td>\n",
       "    </tr>\n",
       "    <tr>\n",
       "      <th>2264</th>\n",
       "      <td>Toyota</td>\n",
       "      <td>Pune</td>\n",
       "      <td>2012</td>\n",
       "      <td>24500</td>\n",
       "      <td>Petrol</td>\n",
       "      <td>Manual</td>\n",
       "      <td>Second</td>\n",
       "      <td>18.30</td>\n",
       "      <td>NaN</td>\n",
       "      <td>NaN</td>\n",
       "      <td>NaN</td>\n",
       "      <td>NaN</td>\n",
       "      <td>2.95</td>\n",
       "      <td>kmpl</td>\n",
       "    </tr>\n",
       "    <tr>\n",
       "      <th>2325</th>\n",
       "      <td>Maruti</td>\n",
       "      <td>Pune</td>\n",
       "      <td>2015</td>\n",
       "      <td>67000</td>\n",
       "      <td>Petrol</td>\n",
       "      <td>Manual</td>\n",
       "      <td>First</td>\n",
       "      <td>16.10</td>\n",
       "      <td>NaN</td>\n",
       "      <td>NaN</td>\n",
       "      <td>NaN</td>\n",
       "      <td>NaN</td>\n",
       "      <td>4.70</td>\n",
       "      <td>kmpl</td>\n",
       "    </tr>\n",
       "    <tr>\n",
       "      <th>2335</th>\n",
       "      <td>Maruti</td>\n",
       "      <td>Mumbai</td>\n",
       "      <td>2007</td>\n",
       "      <td>55000</td>\n",
       "      <td>Petrol</td>\n",
       "      <td>Manual</td>\n",
       "      <td>Second</td>\n",
       "      <td>16.10</td>\n",
       "      <td>NaN</td>\n",
       "      <td>NaN</td>\n",
       "      <td>NaN</td>\n",
       "      <td>NaN</td>\n",
       "      <td>1.75</td>\n",
       "      <td>kmpl</td>\n",
       "    </tr>\n",
       "    <tr>\n",
       "      <th>2530</th>\n",
       "      <td>BMW</td>\n",
       "      <td>Kochi</td>\n",
       "      <td>2014</td>\n",
       "      <td>64158</td>\n",
       "      <td>Diesel</td>\n",
       "      <td>Automatic</td>\n",
       "      <td>First</td>\n",
       "      <td>18.48</td>\n",
       "      <td>NaN</td>\n",
       "      <td>NaN</td>\n",
       "      <td>NaN</td>\n",
       "      <td>NaN</td>\n",
       "      <td>17.89</td>\n",
       "      <td>kmpl</td>\n",
       "    </tr>\n",
       "    <tr>\n",
       "      <th>2542</th>\n",
       "      <td>Hyundai</td>\n",
       "      <td>Bangalore</td>\n",
       "      <td>2011</td>\n",
       "      <td>65000</td>\n",
       "      <td>Petrol</td>\n",
       "      <td>Manual</td>\n",
       "      <td>Second</td>\n",
       "      <td>13.30</td>\n",
       "      <td>NaN</td>\n",
       "      <td>NaN</td>\n",
       "      <td>NaN</td>\n",
       "      <td>NaN</td>\n",
       "      <td>3.15</td>\n",
       "      <td>kmpl</td>\n",
       "    </tr>\n",
       "    <tr>\n",
       "      <th>2623</th>\n",
       "      <td>BMW</td>\n",
       "      <td>Pune</td>\n",
       "      <td>2012</td>\n",
       "      <td>95000</td>\n",
       "      <td>Diesel</td>\n",
       "      <td>Automatic</td>\n",
       "      <td>Second</td>\n",
       "      <td>18.48</td>\n",
       "      <td>NaN</td>\n",
       "      <td>NaN</td>\n",
       "      <td>NaN</td>\n",
       "      <td>NaN</td>\n",
       "      <td>18.00</td>\n",
       "      <td>kmpl</td>\n",
       "    </tr>\n",
       "    <tr>\n",
       "      <th>2668</th>\n",
       "      <td>Maruti</td>\n",
       "      <td>Kolkata</td>\n",
       "      <td>2014</td>\n",
       "      <td>32986</td>\n",
       "      <td>Petrol</td>\n",
       "      <td>Manual</td>\n",
       "      <td>First</td>\n",
       "      <td>16.10</td>\n",
       "      <td>NaN</td>\n",
       "      <td>NaN</td>\n",
       "      <td>NaN</td>\n",
       "      <td>NaN</td>\n",
       "      <td>4.24</td>\n",
       "      <td>kmpl</td>\n",
       "    </tr>\n",
       "    <tr>\n",
       "      <th>2737</th>\n",
       "      <td>Maruti</td>\n",
       "      <td>Jaipur</td>\n",
       "      <td>2001</td>\n",
       "      <td>200000</td>\n",
       "      <td>Petrol</td>\n",
       "      <td>Manual</td>\n",
       "      <td>First</td>\n",
       "      <td>12.00</td>\n",
       "      <td>NaN</td>\n",
       "      <td>NaN</td>\n",
       "      <td>NaN</td>\n",
       "      <td>NaN</td>\n",
       "      <td>0.70</td>\n",
       "      <td>kmpl</td>\n",
       "    </tr>\n",
       "    <tr>\n",
       "      <th>2780</th>\n",
       "      <td>Hyundai</td>\n",
       "      <td>Pune</td>\n",
       "      <td>2009</td>\n",
       "      <td>100000</td>\n",
       "      <td>Petrol</td>\n",
       "      <td>Manual</td>\n",
       "      <td>First</td>\n",
       "      <td>13.30</td>\n",
       "      <td>NaN</td>\n",
       "      <td>NaN</td>\n",
       "      <td>NaN</td>\n",
       "      <td>NaN</td>\n",
       "      <td>1.60</td>\n",
       "      <td>kmpl</td>\n",
       "    </tr>\n",
       "    <tr>\n",
       "      <th>2842</th>\n",
       "      <td>Hyundai</td>\n",
       "      <td>Bangalore</td>\n",
       "      <td>2012</td>\n",
       "      <td>43000</td>\n",
       "      <td>Petrol</td>\n",
       "      <td>Manual</td>\n",
       "      <td>First</td>\n",
       "      <td>13.30</td>\n",
       "      <td>NaN</td>\n",
       "      <td>NaN</td>\n",
       "      <td>NaN</td>\n",
       "      <td>NaN</td>\n",
       "      <td>3.25</td>\n",
       "      <td>kmpl</td>\n",
       "    </tr>\n",
       "    <tr>\n",
       "      <th>3272</th>\n",
       "      <td>BMW</td>\n",
       "      <td>Mumbai</td>\n",
       "      <td>2008</td>\n",
       "      <td>81000</td>\n",
       "      <td>Diesel</td>\n",
       "      <td>Automatic</td>\n",
       "      <td>Second</td>\n",
       "      <td>18.48</td>\n",
       "      <td>NaN</td>\n",
       "      <td>NaN</td>\n",
       "      <td>NaN</td>\n",
       "      <td>NaN</td>\n",
       "      <td>10.50</td>\n",
       "      <td>kmpl</td>\n",
       "    </tr>\n",
       "    <tr>\n",
       "      <th>3404</th>\n",
       "      <td>Maruti</td>\n",
       "      <td>Jaipur</td>\n",
       "      <td>2006</td>\n",
       "      <td>125000</td>\n",
       "      <td>Petrol</td>\n",
       "      <td>Manual</td>\n",
       "      <td>Fourth &amp; Above</td>\n",
       "      <td>16.10</td>\n",
       "      <td>NaN</td>\n",
       "      <td>NaN</td>\n",
       "      <td>NaN</td>\n",
       "      <td>NaN</td>\n",
       "      <td>2.35</td>\n",
       "      <td>kmpl</td>\n",
       "    </tr>\n",
       "    <tr>\n",
       "      <th>3520</th>\n",
       "      <td>BMW</td>\n",
       "      <td>Delhi</td>\n",
       "      <td>2012</td>\n",
       "      <td>90000</td>\n",
       "      <td>Diesel</td>\n",
       "      <td>Automatic</td>\n",
       "      <td>First</td>\n",
       "      <td>18.48</td>\n",
       "      <td>NaN</td>\n",
       "      <td>NaN</td>\n",
       "      <td>NaN</td>\n",
       "      <td>NaN</td>\n",
       "      <td>14.50</td>\n",
       "      <td>kmpl</td>\n",
       "    </tr>\n",
       "    <tr>\n",
       "      <th>3522</th>\n",
       "      <td>Hyundai</td>\n",
       "      <td>Kochi</td>\n",
       "      <td>2012</td>\n",
       "      <td>66400</td>\n",
       "      <td>Petrol</td>\n",
       "      <td>Manual</td>\n",
       "      <td>First</td>\n",
       "      <td>13.30</td>\n",
       "      <td>NaN</td>\n",
       "      <td>NaN</td>\n",
       "      <td>NaN</td>\n",
       "      <td>NaN</td>\n",
       "      <td>2.66</td>\n",
       "      <td>kmpl</td>\n",
       "    </tr>\n",
       "    <tr>\n",
       "      <th>3810</th>\n",
       "      <td>Honda</td>\n",
       "      <td>Kolkata</td>\n",
       "      <td>2013</td>\n",
       "      <td>27000</td>\n",
       "      <td>Petrol</td>\n",
       "      <td>Automatic</td>\n",
       "      <td>First</td>\n",
       "      <td>14.00</td>\n",
       "      <td>NaN</td>\n",
       "      <td>NaN</td>\n",
       "      <td>NaN</td>\n",
       "      <td>NaN</td>\n",
       "      <td>11.99</td>\n",
       "      <td>kmpl</td>\n",
       "    </tr>\n",
       "    <tr>\n",
       "      <th>4011</th>\n",
       "      <td>Fiat</td>\n",
       "      <td>Pune</td>\n",
       "      <td>2011</td>\n",
       "      <td>45271</td>\n",
       "      <td>Diesel</td>\n",
       "      <td>Manual</td>\n",
       "      <td>First</td>\n",
       "      <td>20.30</td>\n",
       "      <td>NaN</td>\n",
       "      <td>NaN</td>\n",
       "      <td>NaN</td>\n",
       "      <td>NaN</td>\n",
       "      <td>2.60</td>\n",
       "      <td>kmpl</td>\n",
       "    </tr>\n",
       "    <tr>\n",
       "      <th>4152</th>\n",
       "      <td>Land</td>\n",
       "      <td>Mumbai</td>\n",
       "      <td>2003</td>\n",
       "      <td>75000</td>\n",
       "      <td>Diesel</td>\n",
       "      <td>Automatic</td>\n",
       "      <td>Second</td>\n",
       "      <td>13.30</td>\n",
       "      <td>NaN</td>\n",
       "      <td>NaN</td>\n",
       "      <td>NaN</td>\n",
       "      <td>NaN</td>\n",
       "      <td>16.11</td>\n",
       "      <td>kmpl</td>\n",
       "    </tr>\n",
       "    <tr>\n",
       "      <th>4229</th>\n",
       "      <td>Hyundai</td>\n",
       "      <td>Bangalore</td>\n",
       "      <td>2005</td>\n",
       "      <td>79000</td>\n",
       "      <td>Petrol</td>\n",
       "      <td>Manual</td>\n",
       "      <td>Second</td>\n",
       "      <td>17.00</td>\n",
       "      <td>NaN</td>\n",
       "      <td>NaN</td>\n",
       "      <td>NaN</td>\n",
       "      <td>NaN</td>\n",
       "      <td>1.65</td>\n",
       "      <td>kmpl</td>\n",
       "    </tr>\n",
       "    <tr>\n",
       "      <th>4577</th>\n",
       "      <td>BMW</td>\n",
       "      <td>Delhi</td>\n",
       "      <td>2012</td>\n",
       "      <td>72000</td>\n",
       "      <td>Diesel</td>\n",
       "      <td>Automatic</td>\n",
       "      <td>Third</td>\n",
       "      <td>18.48</td>\n",
       "      <td>NaN</td>\n",
       "      <td>NaN</td>\n",
       "      <td>NaN</td>\n",
       "      <td>NaN</td>\n",
       "      <td>13.85</td>\n",
       "      <td>kmpl</td>\n",
       "    </tr>\n",
       "    <tr>\n",
       "      <th>4604</th>\n",
       "      <td>Honda</td>\n",
       "      <td>Pune</td>\n",
       "      <td>2011</td>\n",
       "      <td>98000</td>\n",
       "      <td>Petrol</td>\n",
       "      <td>Manual</td>\n",
       "      <td>First</td>\n",
       "      <td>16.70</td>\n",
       "      <td>NaN</td>\n",
       "      <td>NaN</td>\n",
       "      <td>NaN</td>\n",
       "      <td>NaN</td>\n",
       "      <td>3.15</td>\n",
       "      <td>kmpl</td>\n",
       "    </tr>\n",
       "    <tr>\n",
       "      <th>4697</th>\n",
       "      <td>Fiat</td>\n",
       "      <td>Kochi</td>\n",
       "      <td>2017</td>\n",
       "      <td>17941</td>\n",
       "      <td>Petrol</td>\n",
       "      <td>Manual</td>\n",
       "      <td>First</td>\n",
       "      <td>15.70</td>\n",
       "      <td>NaN</td>\n",
       "      <td>NaN</td>\n",
       "      <td>NaN</td>\n",
       "      <td>NaN</td>\n",
       "      <td>3.93</td>\n",
       "      <td>kmpl</td>\n",
       "    </tr>\n",
       "    <tr>\n",
       "      <th>4712</th>\n",
       "      <td>Hyundai</td>\n",
       "      <td>Pune</td>\n",
       "      <td>2003</td>\n",
       "      <td>80000</td>\n",
       "      <td>Petrol</td>\n",
       "      <td>Manual</td>\n",
       "      <td>Second</td>\n",
       "      <td>17.00</td>\n",
       "      <td>NaN</td>\n",
       "      <td>NaN</td>\n",
       "      <td>NaN</td>\n",
       "      <td>NaN</td>\n",
       "      <td>0.90</td>\n",
       "      <td>kmpl</td>\n",
       "    </tr>\n",
       "    <tr>\n",
       "      <th>4952</th>\n",
       "      <td>Fiat</td>\n",
       "      <td>Kolkata</td>\n",
       "      <td>2010</td>\n",
       "      <td>47000</td>\n",
       "      <td>Petrol</td>\n",
       "      <td>Manual</td>\n",
       "      <td>First</td>\n",
       "      <td>14.60</td>\n",
       "      <td>NaN</td>\n",
       "      <td>NaN</td>\n",
       "      <td>NaN</td>\n",
       "      <td>NaN</td>\n",
       "      <td>1.49</td>\n",
       "      <td>kmpl</td>\n",
       "    </tr>\n",
       "    <tr>\n",
       "      <th>5015</th>\n",
       "      <td>Maruti</td>\n",
       "      <td>Delhi</td>\n",
       "      <td>2006</td>\n",
       "      <td>63000</td>\n",
       "      <td>Petrol</td>\n",
       "      <td>Manual</td>\n",
       "      <td>First</td>\n",
       "      <td>16.10</td>\n",
       "      <td>NaN</td>\n",
       "      <td>NaN</td>\n",
       "      <td>NaN</td>\n",
       "      <td>NaN</td>\n",
       "      <td>1.60</td>\n",
       "      <td>kmpl</td>\n",
       "    </tr>\n",
       "    <tr>\n",
       "      <th>5185</th>\n",
       "      <td>Maruti</td>\n",
       "      <td>Delhi</td>\n",
       "      <td>2012</td>\n",
       "      <td>52000</td>\n",
       "      <td>Petrol</td>\n",
       "      <td>Manual</td>\n",
       "      <td>First</td>\n",
       "      <td>16.10</td>\n",
       "      <td>NaN</td>\n",
       "      <td>NaN</td>\n",
       "      <td>NaN</td>\n",
       "      <td>NaN</td>\n",
       "      <td>3.65</td>\n",
       "      <td>kmpl</td>\n",
       "    </tr>\n",
       "    <tr>\n",
       "      <th>5270</th>\n",
       "      <td>Honda</td>\n",
       "      <td>Bangalore</td>\n",
       "      <td>2002</td>\n",
       "      <td>53000</td>\n",
       "      <td>Petrol</td>\n",
       "      <td>Manual</td>\n",
       "      <td>Second</td>\n",
       "      <td>13.30</td>\n",
       "      <td>NaN</td>\n",
       "      <td>NaN</td>\n",
       "      <td>NaN</td>\n",
       "      <td>NaN</td>\n",
       "      <td>1.85</td>\n",
       "      <td>kmpl</td>\n",
       "    </tr>\n",
       "  </tbody>\n",
       "</table>\n",
       "</div>"
      ],
      "text/plain": [
       "     Manufacturer    Location  Year  Kilometers_Driven Fuel_Type Transmission  \\\n",
       "194         Honda   Ahmedabad  2007              60006    Petrol       Manual   \n",
       "208        Maruti     Kolkata  2010              42001    Petrol       Manual   \n",
       "733        Maruti     Chennai  2006              97800    Petrol       Manual   \n",
       "749          Land      Mumbai  2008              55001    Diesel    Automatic   \n",
       "1294        Honda       Delhi  2009              55005    Petrol       Manual   \n",
       "1327       Maruti   Hyderabad  2015              50295    Petrol       Manual   \n",
       "1385        Honda        Pune  2004             115000    Petrol       Manual   \n",
       "1460         Land  Coimbatore  2008              69078    Petrol       Manual   \n",
       "2074       Maruti        Pune  2011              24255    Petrol       Manual   \n",
       "2096      Hyundai  Coimbatore  2004              52146    Petrol       Manual   \n",
       "2264       Toyota        Pune  2012              24500    Petrol       Manual   \n",
       "2325       Maruti        Pune  2015              67000    Petrol       Manual   \n",
       "2335       Maruti      Mumbai  2007              55000    Petrol       Manual   \n",
       "2530          BMW       Kochi  2014              64158    Diesel    Automatic   \n",
       "2542      Hyundai   Bangalore  2011              65000    Petrol       Manual   \n",
       "2623          BMW        Pune  2012              95000    Diesel    Automatic   \n",
       "2668       Maruti     Kolkata  2014              32986    Petrol       Manual   \n",
       "2737       Maruti      Jaipur  2001             200000    Petrol       Manual   \n",
       "2780      Hyundai        Pune  2009             100000    Petrol       Manual   \n",
       "2842      Hyundai   Bangalore  2012              43000    Petrol       Manual   \n",
       "3272          BMW      Mumbai  2008              81000    Diesel    Automatic   \n",
       "3404       Maruti      Jaipur  2006             125000    Petrol       Manual   \n",
       "3520          BMW       Delhi  2012              90000    Diesel    Automatic   \n",
       "3522      Hyundai       Kochi  2012              66400    Petrol       Manual   \n",
       "3810        Honda     Kolkata  2013              27000    Petrol    Automatic   \n",
       "4011         Fiat        Pune  2011              45271    Diesel       Manual   \n",
       "4152         Land      Mumbai  2003              75000    Diesel    Automatic   \n",
       "4229      Hyundai   Bangalore  2005              79000    Petrol       Manual   \n",
       "4577          BMW       Delhi  2012              72000    Diesel    Automatic   \n",
       "4604        Honda        Pune  2011              98000    Petrol       Manual   \n",
       "4697         Fiat       Kochi  2017              17941    Petrol       Manual   \n",
       "4712      Hyundai        Pune  2003              80000    Petrol       Manual   \n",
       "4952         Fiat     Kolkata  2010              47000    Petrol       Manual   \n",
       "5015       Maruti       Delhi  2006              63000    Petrol       Manual   \n",
       "5185       Maruti       Delhi  2012              52000    Petrol       Manual   \n",
       "5270        Honda   Bangalore  2002              53000    Petrol       Manual   \n",
       "\n",
       "          Owner_Type  Mileage  Engine Power  Seats New_Price  Price  \\\n",
       "194            First    13.30     NaN   NaN    NaN       NaN   2.95   \n",
       "208            First    16.10     NaN   NaN    NaN       NaN   2.11   \n",
       "733            Third    16.10     NaN   NaN    NaN       NaN   1.75   \n",
       "749           Second    13.30     NaN   NaN    NaN       NaN  26.50   \n",
       "1294           First    12.80     NaN   NaN    NaN       NaN   3.20   \n",
       "1327           First    16.10     NaN   NaN    NaN       NaN   5.80   \n",
       "1385          Second    13.30     NaN   NaN    NaN       NaN   1.50   \n",
       "1460           First    13.30     NaN   NaN    NaN       NaN  40.88   \n",
       "2074           First    16.10     NaN   NaN    NaN       NaN   3.15   \n",
       "2096           First    13.30     NaN   NaN    NaN       NaN   1.93   \n",
       "2264          Second    18.30     NaN   NaN    NaN       NaN   2.95   \n",
       "2325           First    16.10     NaN   NaN    NaN       NaN   4.70   \n",
       "2335          Second    16.10     NaN   NaN    NaN       NaN   1.75   \n",
       "2530           First    18.48     NaN   NaN    NaN       NaN  17.89   \n",
       "2542          Second    13.30     NaN   NaN    NaN       NaN   3.15   \n",
       "2623          Second    18.48     NaN   NaN    NaN       NaN  18.00   \n",
       "2668           First    16.10     NaN   NaN    NaN       NaN   4.24   \n",
       "2737           First    12.00     NaN   NaN    NaN       NaN   0.70   \n",
       "2780           First    13.30     NaN   NaN    NaN       NaN   1.60   \n",
       "2842           First    13.30     NaN   NaN    NaN       NaN   3.25   \n",
       "3272          Second    18.48     NaN   NaN    NaN       NaN  10.50   \n",
       "3404  Fourth & Above    16.10     NaN   NaN    NaN       NaN   2.35   \n",
       "3520           First    18.48     NaN   NaN    NaN       NaN  14.50   \n",
       "3522           First    13.30     NaN   NaN    NaN       NaN   2.66   \n",
       "3810           First    14.00     NaN   NaN    NaN       NaN  11.99   \n",
       "4011           First    20.30     NaN   NaN    NaN       NaN   2.60   \n",
       "4152          Second    13.30     NaN   NaN    NaN       NaN  16.11   \n",
       "4229          Second    17.00     NaN   NaN    NaN       NaN   1.65   \n",
       "4577           Third    18.48     NaN   NaN    NaN       NaN  13.85   \n",
       "4604           First    16.70     NaN   NaN    NaN       NaN   3.15   \n",
       "4697           First    15.70     NaN   NaN    NaN       NaN   3.93   \n",
       "4712          Second    17.00     NaN   NaN    NaN       NaN   0.90   \n",
       "4952           First    14.60     NaN   NaN    NaN       NaN   1.49   \n",
       "5015           First    16.10     NaN   NaN    NaN       NaN   1.60   \n",
       "5185           First    16.10     NaN   NaN    NaN       NaN   3.65   \n",
       "5270          Second    13.30     NaN   NaN    NaN       NaN   1.85   \n",
       "\n",
       "     Mileage_units  \n",
       "194           kmpl  \n",
       "208           kmpl  \n",
       "733           kmpl  \n",
       "749           kmpl  \n",
       "1294          kmpl  \n",
       "1327          kmpl  \n",
       "1385          kmpl  \n",
       "1460          kmpl  \n",
       "2074          kmpl  \n",
       "2096          kmpl  \n",
       "2264          kmpl  \n",
       "2325          kmpl  \n",
       "2335          kmpl  \n",
       "2530          kmpl  \n",
       "2542          kmpl  \n",
       "2623          kmpl  \n",
       "2668          kmpl  \n",
       "2737          kmpl  \n",
       "2780          kmpl  \n",
       "2842          kmpl  \n",
       "3272          kmpl  \n",
       "3404          kmpl  \n",
       "3520          kmpl  \n",
       "3522          kmpl  \n",
       "3810          kmpl  \n",
       "4011          kmpl  \n",
       "4152          kmpl  \n",
       "4229          kmpl  \n",
       "4577          kmpl  \n",
       "4604          kmpl  \n",
       "4697          kmpl  \n",
       "4712          kmpl  \n",
       "4952          kmpl  \n",
       "5015          kmpl  \n",
       "5185          kmpl  \n",
       "5270          kmpl  "
      ]
     },
     "execution_count": 88,
     "metadata": {},
     "output_type": "execute_result"
    }
   ],
   "source": [
    "data[data['Engine'].isnull()]"
   ]
  },
  {
   "cell_type": "code",
   "execution_count": 89,
   "metadata": {},
   "outputs": [
    {
     "data": {
      "text/plain": [
       "array(['Honda City 1.5 GXI', 'Maruti Swift 1.3 VXi',\n",
       "       'Land Rover Range Rover 3.0 D', 'Honda City 1.3 DX',\n",
       "       'Maruti Swift 1.3 ZXI',\n",
       "       'Land Rover Range Rover Sport 2005 2012 Sport',\n",
       "       'Maruti Swift 1.3 LXI', 'Hyundai Santro LP zipPlus',\n",
       "       'Toyota Etios Liva V', 'Maruti Swift 1.3 VXI ABS',\n",
       "       'BMW 5 Series 520d Sedan', 'Hyundai Santro GLS II - Euro II',\n",
       "       'Maruti Wagon R Vx', 'Honda CR-V AT With Sun Roof',\n",
       "       'Fiat Punto 1.3 Emotion', 'Hyundai Santro Xing XG',\n",
       "       'Honda Jazz Select Edition', 'Fiat Punto 1.2 Dynamic',\n",
       "       'Fiat Punto 1.4 Emotion'], dtype=object)"
      ]
     },
     "execution_count": 89,
     "metadata": {},
     "output_type": "execute_result"
    }
   ],
   "source": [
    "df[df['Engine'].isnull()]['Name'].unique()"
   ]
  },
  {
   "cell_type": "markdown",
   "metadata": {},
   "source": [
    "Honda City 1.5 GXI = 1493cc, 84bhp, 5 (https://www.cartrade.com/marutisuzuki-cars/swift-old/vxi-1-3)\n",
    "Maruti Swift 1.3 VXi = 1197, 81.8, 5 (https://www.cardekho.com/overview/Maruti_Swift/Maruti_Swift_AMT_VXI.htm)\n",
    "Land Rover Range Rover 3.0 D = 2993, 255bph, 5 (https://www.carwale.com/landrover-cars/range-rover/30voguediesel/)\n",
    "Honda City 1.3 DX = 1298,  (https://www.cardekho.com/overview/Honda_City_2000-2003/Honda_City_2000-2003_1.3_DX.htm)\n",
    "Maruti Swift 1.3 ZXI = 1197, 84, 5 (https://www.cartrade.com/marutisuzuki-cars/swift-old/zxi-1-3)"
   ]
  },
  {
   "cell_type": "code",
   "execution_count": 90,
   "metadata": {},
   "outputs": [],
   "source": [
    "data =  data.dropna(axis=0, subset=['Engine'])"
   ]
  },
  {
   "cell_type": "code",
   "execution_count": 91,
   "metadata": {},
   "outputs": [
    {
     "data": {
      "text/html": [
       "<div>\n",
       "<style scoped>\n",
       "    .dataframe tbody tr th:only-of-type {\n",
       "        vertical-align: middle;\n",
       "    }\n",
       "\n",
       "    .dataframe tbody tr th {\n",
       "        vertical-align: top;\n",
       "    }\n",
       "\n",
       "    .dataframe thead th {\n",
       "        text-align: right;\n",
       "    }\n",
       "</style>\n",
       "<table border=\"1\" class=\"dataframe\">\n",
       "  <thead>\n",
       "    <tr style=\"text-align: right;\">\n",
       "      <th></th>\n",
       "      <th>Unnamed: 0</th>\n",
       "      <th>Name</th>\n",
       "      <th>Location</th>\n",
       "      <th>Year</th>\n",
       "      <th>Kilometers_Driven</th>\n",
       "      <th>Fuel_Type</th>\n",
       "      <th>Transmission</th>\n",
       "      <th>Owner_Type</th>\n",
       "      <th>Mileage</th>\n",
       "      <th>Engine</th>\n",
       "      <th>Power</th>\n",
       "      <th>Seats</th>\n",
       "      <th>New_Price</th>\n",
       "      <th>Price</th>\n",
       "    </tr>\n",
       "  </thead>\n",
       "  <tbody>\n",
       "    <tr>\n",
       "      <th>0</th>\n",
       "      <td>0</td>\n",
       "      <td>Maruti Wagon R LXI CNG</td>\n",
       "      <td>Mumbai</td>\n",
       "      <td>2010</td>\n",
       "      <td>72000</td>\n",
       "      <td>CNG</td>\n",
       "      <td>Manual</td>\n",
       "      <td>First</td>\n",
       "      <td>26.6 km/kg</td>\n",
       "      <td>998 CC</td>\n",
       "      <td>58.16 bhp</td>\n",
       "      <td>5.0</td>\n",
       "      <td>NaN</td>\n",
       "      <td>1.75</td>\n",
       "    </tr>\n",
       "    <tr>\n",
       "      <th>1</th>\n",
       "      <td>1</td>\n",
       "      <td>Hyundai Creta 1.6 CRDi SX Option</td>\n",
       "      <td>Pune</td>\n",
       "      <td>2015</td>\n",
       "      <td>41000</td>\n",
       "      <td>Diesel</td>\n",
       "      <td>Manual</td>\n",
       "      <td>First</td>\n",
       "      <td>19.67 kmpl</td>\n",
       "      <td>1582 CC</td>\n",
       "      <td>126.2 bhp</td>\n",
       "      <td>5.0</td>\n",
       "      <td>NaN</td>\n",
       "      <td>12.50</td>\n",
       "    </tr>\n",
       "    <tr>\n",
       "      <th>2</th>\n",
       "      <td>2</td>\n",
       "      <td>Honda Jazz V</td>\n",
       "      <td>Chennai</td>\n",
       "      <td>2011</td>\n",
       "      <td>46000</td>\n",
       "      <td>Petrol</td>\n",
       "      <td>Manual</td>\n",
       "      <td>First</td>\n",
       "      <td>18.2 kmpl</td>\n",
       "      <td>1199 CC</td>\n",
       "      <td>88.7 bhp</td>\n",
       "      <td>5.0</td>\n",
       "      <td>8.61 Lakh</td>\n",
       "      <td>4.50</td>\n",
       "    </tr>\n",
       "    <tr>\n",
       "      <th>3</th>\n",
       "      <td>3</td>\n",
       "      <td>Maruti Ertiga VDI</td>\n",
       "      <td>Chennai</td>\n",
       "      <td>2012</td>\n",
       "      <td>87000</td>\n",
       "      <td>Diesel</td>\n",
       "      <td>Manual</td>\n",
       "      <td>First</td>\n",
       "      <td>20.77 kmpl</td>\n",
       "      <td>1248 CC</td>\n",
       "      <td>88.76 bhp</td>\n",
       "      <td>7.0</td>\n",
       "      <td>NaN</td>\n",
       "      <td>6.00</td>\n",
       "    </tr>\n",
       "    <tr>\n",
       "      <th>4</th>\n",
       "      <td>4</td>\n",
       "      <td>Audi A4 New 2.0 TDI Multitronic</td>\n",
       "      <td>Coimbatore</td>\n",
       "      <td>2013</td>\n",
       "      <td>40670</td>\n",
       "      <td>Diesel</td>\n",
       "      <td>Automatic</td>\n",
       "      <td>Second</td>\n",
       "      <td>15.2 kmpl</td>\n",
       "      <td>1968 CC</td>\n",
       "      <td>140.8 bhp</td>\n",
       "      <td>5.0</td>\n",
       "      <td>NaN</td>\n",
       "      <td>17.74</td>\n",
       "    </tr>\n",
       "  </tbody>\n",
       "</table>\n",
       "</div>"
      ],
      "text/plain": [
       "   Unnamed: 0                              Name    Location  Year  \\\n",
       "0           0            Maruti Wagon R LXI CNG      Mumbai  2010   \n",
       "1           1  Hyundai Creta 1.6 CRDi SX Option        Pune  2015   \n",
       "2           2                      Honda Jazz V     Chennai  2011   \n",
       "3           3                 Maruti Ertiga VDI     Chennai  2012   \n",
       "4           4   Audi A4 New 2.0 TDI Multitronic  Coimbatore  2013   \n",
       "\n",
       "   Kilometers_Driven Fuel_Type Transmission Owner_Type     Mileage   Engine  \\\n",
       "0              72000       CNG       Manual      First  26.6 km/kg   998 CC   \n",
       "1              41000    Diesel       Manual      First  19.67 kmpl  1582 CC   \n",
       "2              46000    Petrol       Manual      First   18.2 kmpl  1199 CC   \n",
       "3              87000    Diesel       Manual      First  20.77 kmpl  1248 CC   \n",
       "4              40670    Diesel    Automatic     Second   15.2 kmpl  1968 CC   \n",
       "\n",
       "       Power  Seats  New_Price  Price  \n",
       "0  58.16 bhp    5.0        NaN   1.75  \n",
       "1  126.2 bhp    5.0        NaN  12.50  \n",
       "2   88.7 bhp    5.0  8.61 Lakh   4.50  \n",
       "3  88.76 bhp    7.0        NaN   6.00  \n",
       "4  140.8 bhp    5.0        NaN  17.74  "
      ]
     },
     "execution_count": 91,
     "metadata": {},
     "output_type": "execute_result"
    }
   ],
   "source": [
    "df.head()"
   ]
  },
  {
   "cell_type": "markdown",
   "metadata": {},
   "source": [
    "**Power**"
   ]
  },
  {
   "cell_type": "code",
   "execution_count": 92,
   "metadata": {},
   "outputs": [],
   "source": [
    "data['Power'] = data[\"Power\"].str.split(\" \", expand = True)"
   ]
  },
  {
   "cell_type": "markdown",
   "metadata": {},
   "source": [
    "There are some 'null' values in `Power` column replacing 'null' with NaN."
   ]
  },
  {
   "cell_type": "code",
   "execution_count": 93,
   "metadata": {},
   "outputs": [],
   "source": [
    "data['Power'] = data['Power'].replace('null',np.NaN)"
   ]
  },
  {
   "cell_type": "code",
   "execution_count": 94,
   "metadata": {},
   "outputs": [],
   "source": [
    "Manufacturer = ['Ford', 'Hyundai', 'Maruti', 'Volkswagen', 'Tata', 'Toyota', 'Porsche', 'Fiat', 'Chevrolet', \n",
    "                'Mahindra', 'Nissan','Mercedes-Benz', 'Honda', 'Audi', 'Skoda']\n",
    "for c in Manufacturer:\n",
    "    a = ((data['Manufacturer'] == c) & (data['Power'].isnull()))\n",
    "    data.loc[a,'Power'] = data.loc[a, 'Power'].fillna(data[data['Manufacturer'] == c]['Power'].mode()[0])"
   ]
  },
  {
   "cell_type": "code",
   "execution_count": 95,
   "metadata": {},
   "outputs": [],
   "source": [
    "data['Power'] = data['Power'].astype(float)"
   ]
  },
  {
   "cell_type": "code",
   "execution_count": 96,
   "metadata": {},
   "outputs": [],
   "source": [
    "data['Power'] = data['Power'].replace(np.NaN,\n",
    "                                           data[(data['Fuel_Type']=='Diesel') & (data['Transmission']=='Automatic') & \n",
    "                                                (data['Price']<4)]['Power'].mean())"
   ]
  },
  {
   "cell_type": "code",
   "execution_count": null,
   "metadata": {},
   "outputs": [],
   "source": []
  },
  {
   "cell_type": "markdown",
   "metadata": {},
   "source": [
    "**Seats**"
   ]
  },
  {
   "cell_type": "code",
   "execution_count": 97,
   "metadata": {},
   "outputs": [],
   "source": [
    "Manufacturer = ['Honda', 'Maruti', 'Ford', 'Land', 'Hyundai', 'Toyota', 'BMW','Fiat']\n",
    "for c in Manufacturer:\n",
    "    a = ((data['Manufacturer'] == c) & (data['Seats'].isnull()))\n",
    "    data.loc[a,'Seats'] = data.loc[a, 'Seats'].fillna(data[data['Manufacturer'] == c]['Seats'].mode()[0])"
   ]
  },
  {
   "cell_type": "code",
   "execution_count": 98,
   "metadata": {},
   "outputs": [
    {
     "data": {
      "text/html": [
       "<div>\n",
       "<style scoped>\n",
       "    .dataframe tbody tr th:only-of-type {\n",
       "        vertical-align: middle;\n",
       "    }\n",
       "\n",
       "    .dataframe tbody tr th {\n",
       "        vertical-align: top;\n",
       "    }\n",
       "\n",
       "    .dataframe thead th {\n",
       "        text-align: right;\n",
       "    }\n",
       "</style>\n",
       "<table border=\"1\" class=\"dataframe\">\n",
       "  <thead>\n",
       "    <tr style=\"text-align: right;\">\n",
       "      <th></th>\n",
       "      <th>Manufacturer</th>\n",
       "      <th>Location</th>\n",
       "      <th>Year</th>\n",
       "      <th>Kilometers_Driven</th>\n",
       "      <th>Fuel_Type</th>\n",
       "      <th>Transmission</th>\n",
       "      <th>Owner_Type</th>\n",
       "      <th>Mileage</th>\n",
       "      <th>Engine</th>\n",
       "      <th>Power</th>\n",
       "      <th>Seats</th>\n",
       "      <th>New_Price</th>\n",
       "      <th>Price</th>\n",
       "      <th>Mileage_units</th>\n",
       "    </tr>\n",
       "  </thead>\n",
       "  <tbody>\n",
       "    <tr>\n",
       "      <th>3999</th>\n",
       "      <td>Audi</td>\n",
       "      <td>Hyderabad</td>\n",
       "      <td>2012</td>\n",
       "      <td>125000</td>\n",
       "      <td>Petrol</td>\n",
       "      <td>Automatic</td>\n",
       "      <td>First</td>\n",
       "      <td>10.5</td>\n",
       "      <td>3197.0</td>\n",
       "      <td>174.33</td>\n",
       "      <td>0.0</td>\n",
       "      <td>NaN</td>\n",
       "      <td>18.0</td>\n",
       "      <td>kmpl</td>\n",
       "    </tr>\n",
       "  </tbody>\n",
       "</table>\n",
       "</div>"
      ],
      "text/plain": [
       "     Manufacturer   Location  Year  Kilometers_Driven Fuel_Type Transmission  \\\n",
       "3999         Audi  Hyderabad  2012             125000    Petrol    Automatic   \n",
       "\n",
       "     Owner_Type  Mileage  Engine   Power  Seats New_Price  Price Mileage_units  \n",
       "3999      First     10.5  3197.0  174.33    0.0       NaN   18.0          kmpl  "
      ]
     },
     "execution_count": 98,
     "metadata": {},
     "output_type": "execute_result"
    }
   ],
   "source": [
    "data[data['Seats']==0]"
   ]
  },
  {
   "cell_type": "markdown",
   "metadata": {},
   "source": [
    "We have one row with Seats as Zero, which is not possible to replacing with mode of the Seats with respect to the Manufacturer. "
   ]
  },
  {
   "cell_type": "code",
   "execution_count": 99,
   "metadata": {},
   "outputs": [],
   "source": [
    "data['Seats'] = data['Seats'].replace(0,data[data['Manufacturer'] == 'Audi']['Seats'].mode()[0])"
   ]
  },
  {
   "cell_type": "code",
   "execution_count": 100,
   "metadata": {},
   "outputs": [
    {
     "data": {
      "text/plain": [
       "5.0     5019\n",
       "7.0      674\n",
       "8.0      134\n",
       "4.0       99\n",
       "6.0       31\n",
       "2.0       16\n",
       "10.0       5\n",
       "9.0        3\n",
       "Name: Seats, dtype: int64"
      ]
     },
     "execution_count": 100,
     "metadata": {},
     "output_type": "execute_result"
    }
   ],
   "source": [
    "data['Seats'].value_counts()"
   ]
  },
  {
   "cell_type": "markdown",
   "metadata": {},
   "source": [
    "Treated all the columns with Null values except `New_Price` column. Dropping this column as it contains over 83% of the null values."
   ]
  },
  {
   "cell_type": "code",
   "execution_count": 101,
   "metadata": {},
   "outputs": [],
   "source": [
    "data = data.drop('New_Price',axis=1)"
   ]
  },
  {
   "cell_type": "code",
   "execution_count": 102,
   "metadata": {},
   "outputs": [
    {
     "data": {
      "text/plain": [
       "0"
      ]
     },
     "execution_count": 102,
     "metadata": {},
     "output_type": "execute_result"
    }
   ],
   "source": [
    "data.isnull().sum().sum()"
   ]
  },
  {
   "cell_type": "code",
   "execution_count": 103,
   "metadata": {},
   "outputs": [
    {
     "name": "stdout",
     "output_type": "stream",
     "text": [
      "<class 'pandas.core.frame.DataFrame'>\n",
      "Int64Index: 5981 entries, 0 to 6018\n",
      "Data columns (total 13 columns):\n",
      "Manufacturer         5981 non-null object\n",
      "Location             5981 non-null object\n",
      "Year                 5981 non-null int64\n",
      "Kilometers_Driven    5981 non-null int64\n",
      "Fuel_Type            5981 non-null object\n",
      "Transmission         5981 non-null object\n",
      "Owner_Type           5981 non-null object\n",
      "Mileage              5981 non-null float64\n",
      "Engine               5981 non-null float64\n",
      "Power                5981 non-null float64\n",
      "Seats                5981 non-null float64\n",
      "Price                5981 non-null float64\n",
      "Mileage_units        5981 non-null object\n",
      "dtypes: float64(5), int64(2), object(6)\n",
      "memory usage: 654.2+ KB\n"
     ]
    }
   ],
   "source": [
    "data.info()"
   ]
  },
  {
   "cell_type": "markdown",
   "metadata": {},
   "source": [
    "***Outliers***"
   ]
  },
  {
   "cell_type": "code",
   "execution_count": 104,
   "metadata": {},
   "outputs": [
    {
     "data": {
      "image/png": "[encoded data removed]",
      "text/plain": [
       "<Figure size 1080x288 with 2 Axes>"
      ]
     },
     "metadata": {
      "needs_background": "light"
     },
     "output_type": "display_data"
    },
    {
     "data": {
      "image/png": "[encoded data removed]",
      "text/plain": [
       "<Figure size 1080x288 with 2 Axes>"
      ]
     },
     "metadata": {
      "needs_background": "light"
     },
     "output_type": "display_data"
    },
    {
     "data": {
      "image/png": "[encoded data removed]",
      "text/plain": [
       "<Figure size 1080x288 with 2 Axes>"
      ]
     },
     "metadata": {
      "needs_background": "light"
     },
     "output_type": "display_data"
    },
    {
     "data": {
      "image/png": "[encoded data removed]",
      "text/plain": [
       "<Figure size 1080x288 with 2 Axes>"
      ]
     },
     "metadata": {
      "needs_background": "light"
     },
     "output_type": "display_data"
    }
   ],
   "source": [
    "# let's make boxplots to visualise outliers in the continuous variables \n",
    "# and histograms to get an idea of the distribution\n",
    "num = ['Kilometers_Driven', 'Mileage', 'Engine', 'Power']\n",
    "for var in num:\n",
    "    plt.figure(figsize=(15,4))\n",
    "    plt.subplot(1, 2, 1)\n",
    "    fig = sns.boxplot((data[var]))\n",
    "    fig.set_title('')\n",
    "    fig.set_ylabel(var)\n",
    "    \n",
    "    plt.subplot(1, 2, 2)\n",
    "    fig = sns.distplot((data[var]))\n",
    "    fig.set_ylabel('Number of cars')\n",
    "    fig.set_xlabel(var)\n",
    "\n",
    "    plt.show()"
   ]
  },
  {
   "cell_type": "markdown",
   "metadata": {},
   "source": [
    "Continuous variables seem to contain outliers. In addition, the variables are not normally distributed. If we are planning to build linear regression, we might need to tackle these to improve the model performance. "
   ]
  },
  {
   "cell_type": "code",
   "execution_count": 105,
   "metadata": {},
   "outputs": [],
   "source": [
    "data = data.drop(data[data['Kilometers_Driven']>6000000].index, axis=0)"
   ]
  },
  {
   "cell_type": "markdown",
   "metadata": {},
   "source": [
    "Removed an outlier row from the data with 'Kilometers_Driven' greater than 6000000."
   ]
  },
  {
   "cell_type": "code",
   "execution_count": 106,
   "metadata": {},
   "outputs": [
    {
     "data": {
      "text/html": [
       "<div>\n",
       "<style scoped>\n",
       "    .dataframe tbody tr th:only-of-type {\n",
       "        vertical-align: middle;\n",
       "    }\n",
       "\n",
       "    .dataframe tbody tr th {\n",
       "        vertical-align: top;\n",
       "    }\n",
       "\n",
       "    .dataframe thead th {\n",
       "        text-align: right;\n",
       "    }\n",
       "</style>\n",
       "<table border=\"1\" class=\"dataframe\">\n",
       "  <thead>\n",
       "    <tr style=\"text-align: right;\">\n",
       "      <th></th>\n",
       "      <th>Year</th>\n",
       "      <th>Kilometers_Driven</th>\n",
       "      <th>Mileage</th>\n",
       "      <th>Engine</th>\n",
       "      <th>Power</th>\n",
       "      <th>Seats</th>\n",
       "      <th>Price</th>\n",
       "    </tr>\n",
       "  </thead>\n",
       "  <tbody>\n",
       "    <tr>\n",
       "      <th>count</th>\n",
       "      <td>5980.000000</td>\n",
       "      <td>5980.000000</td>\n",
       "      <td>5980.000000</td>\n",
       "      <td>5980.000000</td>\n",
       "      <td>5980.000000</td>\n",
       "      <td>5980.000000</td>\n",
       "      <td>5980.000000</td>\n",
       "    </tr>\n",
       "    <tr>\n",
       "      <th>mean</th>\n",
       "      <td>2013.382441</td>\n",
       "      <td>57610.947826</td>\n",
       "      <td>18.302406</td>\n",
       "      <td>1621.276589</td>\n",
       "      <td>112.832039</td>\n",
       "      <td>5.279431</td>\n",
       "      <td>9.485851</td>\n",
       "    </tr>\n",
       "    <tr>\n",
       "      <th>std</th>\n",
       "      <td>3.249258</td>\n",
       "      <td>37900.964821</td>\n",
       "      <td>4.189916</td>\n",
       "      <td>600.906139</td>\n",
       "      <td>53.660609</td>\n",
       "      <td>0.805782</td>\n",
       "      <td>11.180077</td>\n",
       "    </tr>\n",
       "    <tr>\n",
       "      <th>min</th>\n",
       "      <td>1998.000000</td>\n",
       "      <td>171.000000</td>\n",
       "      <td>6.400000</td>\n",
       "      <td>624.000000</td>\n",
       "      <td>34.200000</td>\n",
       "      <td>2.000000</td>\n",
       "      <td>0.440000</td>\n",
       "    </tr>\n",
       "    <tr>\n",
       "      <th>25%</th>\n",
       "      <td>2011.000000</td>\n",
       "      <td>33927.000000</td>\n",
       "      <td>15.200000</td>\n",
       "      <td>1198.000000</td>\n",
       "      <td>75.000000</td>\n",
       "      <td>5.000000</td>\n",
       "      <td>3.500000</td>\n",
       "    </tr>\n",
       "    <tr>\n",
       "      <th>50%</th>\n",
       "      <td>2014.000000</td>\n",
       "      <td>53000.000000</td>\n",
       "      <td>18.160000</td>\n",
       "      <td>1493.000000</td>\n",
       "      <td>93.700000</td>\n",
       "      <td>5.000000</td>\n",
       "      <td>5.650000</td>\n",
       "    </tr>\n",
       "    <tr>\n",
       "      <th>75%</th>\n",
       "      <td>2016.000000</td>\n",
       "      <td>73000.000000</td>\n",
       "      <td>21.100000</td>\n",
       "      <td>1984.000000</td>\n",
       "      <td>138.100000</td>\n",
       "      <td>5.000000</td>\n",
       "      <td>9.950000</td>\n",
       "    </tr>\n",
       "    <tr>\n",
       "      <th>max</th>\n",
       "      <td>2019.000000</td>\n",
       "      <td>775000.000000</td>\n",
       "      <td>33.540000</td>\n",
       "      <td>5998.000000</td>\n",
       "      <td>560.000000</td>\n",
       "      <td>10.000000</td>\n",
       "      <td>160.000000</td>\n",
       "    </tr>\n",
       "  </tbody>\n",
       "</table>\n",
       "</div>"
      ],
      "text/plain": [
       "              Year  Kilometers_Driven      Mileage       Engine        Power  \\\n",
       "count  5980.000000        5980.000000  5980.000000  5980.000000  5980.000000   \n",
       "mean   2013.382441       57610.947826    18.302406  1621.276589   112.832039   \n",
       "std       3.249258       37900.964821     4.189916   600.906139    53.660609   \n",
       "min    1998.000000         171.000000     6.400000   624.000000    34.200000   \n",
       "25%    2011.000000       33927.000000    15.200000  1198.000000    75.000000   \n",
       "50%    2014.000000       53000.000000    18.160000  1493.000000    93.700000   \n",
       "75%    2016.000000       73000.000000    21.100000  1984.000000   138.100000   \n",
       "max    2019.000000      775000.000000    33.540000  5998.000000   560.000000   \n",
       "\n",
       "             Seats        Price  \n",
       "count  5980.000000  5980.000000  \n",
       "mean      5.279431     9.485851  \n",
       "std       0.805782    11.180077  \n",
       "min       2.000000     0.440000  \n",
       "25%       5.000000     3.500000  \n",
       "50%       5.000000     5.650000  \n",
       "75%       5.000000     9.950000  \n",
       "max      10.000000   160.000000  "
      ]
     },
     "execution_count": 106,
     "metadata": {},
     "output_type": "execute_result"
    }
   ],
   "source": [
    "data.describe()"
   ]
  },
  {
   "cell_type": "code",
   "execution_count": 107,
   "metadata": {},
   "outputs": [
    {
     "data": {
      "text/plain": [
       "(5980, 13)"
      ]
     },
     "execution_count": 107,
     "metadata": {},
     "output_type": "execute_result"
    }
   ],
   "source": [
    "data.shape"
   ]
  },
  {
   "cell_type": "raw",
   "metadata": {},
   "source": [
    "col = ['Kilometers_Driven', 'Mileage', 'Engine', 'Power']\n",
    "\n",
    "for var in col:\n",
    "    q1 = data[var].quantile(0.25)    # First Quartile\n",
    "    q3 = data[var].quantile(0.75)    # Third Quartile\n",
    "    iqr = q3 - q1                            # Inter Quartile Range\n",
    "\n",
    "    ll = q1 - 1.5*iqr                        # Lower Limit\n",
    "    ul = q3 + 1.5*iqr                        # Upper Limit\n",
    "\n",
    "    #outliers = (data[(data[var] < ll) | (data[var] > ul)]) # append outliers\n",
    "    \n",
    "    data = data[~((data[var] < ll) |(data[var] > ul))]\n",
    "    "
   ]
  },
  {
   "cell_type": "markdown",
   "metadata": {},
   "source": [
    "## Exploratory Data Analysis"
   ]
  },
  {
   "cell_type": "raw",
   "metadata": {},
   "source": [
    "Key assumptions of multiple regression:\n",
    "\n",
    "To perform multiple linear regression, the following assumptions must be met:\n",
    "\n",
    "--- Before model construction: ---\n",
    "\n",
    "Linear relationship: The dependent variable Y (i.e Price) has a linear relationship with the independent variables X, and to verify this, one must ensure that the XY dispersion graph is linear.\n",
    "No multi-collinearity: Multiple regression assumes that independent variables X are not strongly correlated with each other. This assumption is tested using Variance Inflation Factor (VIF) or using Correlation Matrix .\n",
    "--- After: Residual analysis of the model ---\n",
    "\n",
    "Normality of Error Distribution\n",
    "Independence of errors\n",
    "Homo-scedasticity"
   ]
  },
  {
   "cell_type": "markdown",
   "metadata": {},
   "source": [
    "#### Visualization of dependent Variable"
   ]
  },
  {
   "cell_type": "code",
   "execution_count": 108,
   "metadata": {},
   "outputs": [
    {
     "data": {
      "image/png": "[encoded data removed]",
      "text/plain": [
       "<Figure size 1080x288 with 2 Axes>"
      ]
     },
     "metadata": {
      "needs_background": "light"
     },
     "output_type": "display_data"
    }
   ],
   "source": [
    "fig,ax = plt.subplots(1,2,figsize=(15,4))\n",
    "ax = ax.flatten()\n",
    "\n",
    "sns.boxplot(data['Price'],color='y',ax=ax[0])\n",
    "sns.distplot(data['Price'],color='g',ax=ax[1])\n",
    "\n",
    "plt.show()"
   ]
  },
  {
   "cell_type": "markdown",
   "metadata": {},
   "source": [
    "Our target variable is rightly skewed, skewness is due to presence of high priced cars and may lead to heteroscadasticity of residuals which makes one of the assumption of the linear regression to fail. \n",
    "\n",
    "This can rectified by using transformations."
   ]
  },
  {
   "cell_type": "code",
   "execution_count": 109,
   "metadata": {},
   "outputs": [
    {
     "data": {
      "image/png": "[encoded data removed]",
      "text/plain": [
       "<Figure size 576x360 with 1 Axes>"
      ]
     },
     "metadata": {
      "needs_background": "light"
     },
     "output_type": "display_data"
    }
   ],
   "source": [
    "plt.figure(figsize=(8,5))\n",
    "sns.distplot((np.log(data['Price'])),color='y')\n",
    "plt.show()"
   ]
  },
  {
   "cell_type": "markdown",
   "metadata": {},
   "source": [
    "Log transformation reduces the skewness, so we will transform the variable before modelling."
   ]
  },
  {
   "cell_type": "code",
   "execution_count": 110,
   "metadata": {},
   "outputs": [
    {
     "data": {
      "image/png": "[encoded data removed]",
      "text/plain": [
       "<Figure size 1584x432 with 1 Axes>"
      ]
     },
     "metadata": {
      "needs_background": "light"
     },
     "output_type": "display_data"
    }
   ],
   "source": [
    "plt.figure(figsize=(22,6))\n",
    "a=sns.countplot(data['Manufacturer'])\n",
    "a.tick_params(axis=\"x\",labelrotation=90)\n",
    "plt.show()"
   ]
  },
  {
   "cell_type": "code",
   "execution_count": 111,
   "metadata": {},
   "outputs": [
    {
     "data": {
      "image/png": "[encoded data removed]",
      "text/plain": [
       "<Figure size 1296x360 with 1 Axes>"
      ]
     },
     "metadata": {
      "needs_background": "light"
     },
     "output_type": "display_data"
    }
   ],
   "source": [
    "plt.figure(figsize=(18,5))\n",
    "a=sns.countplot(data['Location'],palette=\"Set2\")\n",
    "a.tick_params(axis=\"x\",labelrotation=90)\n",
    "plt.show()"
   ]
  },
  {
   "cell_type": "code",
   "execution_count": 112,
   "metadata": {},
   "outputs": [
    {
     "data": {
      "image/png": "[encoded data removed]",
      "text/plain": [
       "<Figure size 1080x360 with 1 Axes>"
      ]
     },
     "metadata": {
      "needs_background": "light"
     },
     "output_type": "display_data"
    }
   ],
   "source": [
    "plt.figure(figsize=(15,5))\n",
    "a=sns.countplot(y = data['Year'])\n",
    "#a.tick_params(axis=\"y\",labelrotation=90)\n",
    "plt.show()"
   ]
  },
  {
   "cell_type": "code",
   "execution_count": 178,
   "metadata": {},
   "outputs": [
    {
     "data": {
      "image/png": "[encoded data removed]",
      "text/plain": [
       "<Figure size 1080x288 with 2 Axes>"
      ]
     },
     "metadata": {},
     "output_type": "display_data"
    },
    {
     "data": {
      "image/png": "[encoded data removed]",
      "text/plain": [
       "<Figure size 1080x288 with 2 Axes>"
      ]
     },
     "metadata": {},
     "output_type": "display_data"
    },
    {
     "data": {
      "image/png": "[encoded data removed]",
      "text/plain": [
       "<Figure size 1080x288 with 2 Axes>"
      ]
     },
     "metadata": {},
     "output_type": "display_data"
    },
    {
     "data": {
      "image/png": "[encoded data removed]",
      "text/plain": [
       "<Figure size 1080x288 with 2 Axes>"
      ]
     },
     "metadata": {},
     "output_type": "display_data"
    }
   ],
   "source": [
    "num = ['Kilometers_Driven', 'Mileage', 'Engine', 'Power']\n",
    "for var in num:\n",
    "    plt.figure(figsize=(15,4))\n",
    "    plt.subplot(1, 2, 1)\n",
    "    fig = sns.distplot((data[var]))\n",
    "    fig.set_title('')\n",
    "    fig.set_ylabel(var)\n",
    "    \n",
    "    plt.subplot(1, 2, 2)\n",
    "    fig = sns.distplot(1/np.log1p(data[var]))\n",
    "    fig.set_xlabel(var)\n",
    "\n",
    "    plt.show()"
   ]
  },
  {
   "cell_type": "code",
   "execution_count": 114,
   "metadata": {},
   "outputs": [
    {
     "data": {
      "text/html": [
       "<div>\n",
       "<style scoped>\n",
       "    .dataframe tbody tr th:only-of-type {\n",
       "        vertical-align: middle;\n",
       "    }\n",
       "\n",
       "    .dataframe tbody tr th {\n",
       "        vertical-align: top;\n",
       "    }\n",
       "\n",
       "    .dataframe thead th {\n",
       "        text-align: right;\n",
       "    }\n",
       "</style>\n",
       "<table border=\"1\" class=\"dataframe\">\n",
       "  <thead>\n",
       "    <tr style=\"text-align: right;\">\n",
       "      <th></th>\n",
       "      <th>Manufacturer</th>\n",
       "      <th>Location</th>\n",
       "      <th>Year</th>\n",
       "      <th>Kilometers_Driven</th>\n",
       "      <th>Fuel_Type</th>\n",
       "      <th>Transmission</th>\n",
       "      <th>Owner_Type</th>\n",
       "      <th>Mileage</th>\n",
       "      <th>Engine</th>\n",
       "      <th>Power</th>\n",
       "      <th>Seats</th>\n",
       "      <th>Price</th>\n",
       "      <th>Mileage_units</th>\n",
       "    </tr>\n",
       "  </thead>\n",
       "  <tbody>\n",
       "    <tr>\n",
       "      <th>0</th>\n",
       "      <td>Maruti</td>\n",
       "      <td>Mumbai</td>\n",
       "      <td>2010</td>\n",
       "      <td>72000</td>\n",
       "      <td>CNG</td>\n",
       "      <td>Manual</td>\n",
       "      <td>First</td>\n",
       "      <td>26.60</td>\n",
       "      <td>998.0</td>\n",
       "      <td>58.16</td>\n",
       "      <td>5.0</td>\n",
       "      <td>1.75</td>\n",
       "      <td>km/kg</td>\n",
       "    </tr>\n",
       "    <tr>\n",
       "      <th>1</th>\n",
       "      <td>Hyundai</td>\n",
       "      <td>Pune</td>\n",
       "      <td>2015</td>\n",
       "      <td>41000</td>\n",
       "      <td>Diesel</td>\n",
       "      <td>Manual</td>\n",
       "      <td>First</td>\n",
       "      <td>19.67</td>\n",
       "      <td>1582.0</td>\n",
       "      <td>126.20</td>\n",
       "      <td>5.0</td>\n",
       "      <td>12.50</td>\n",
       "      <td>kmpl</td>\n",
       "    </tr>\n",
       "    <tr>\n",
       "      <th>2</th>\n",
       "      <td>Honda</td>\n",
       "      <td>Chennai</td>\n",
       "      <td>2011</td>\n",
       "      <td>46000</td>\n",
       "      <td>Petrol</td>\n",
       "      <td>Manual</td>\n",
       "      <td>First</td>\n",
       "      <td>18.20</td>\n",
       "      <td>1199.0</td>\n",
       "      <td>88.70</td>\n",
       "      <td>5.0</td>\n",
       "      <td>4.50</td>\n",
       "      <td>kmpl</td>\n",
       "    </tr>\n",
       "    <tr>\n",
       "      <th>3</th>\n",
       "      <td>Maruti</td>\n",
       "      <td>Chennai</td>\n",
       "      <td>2012</td>\n",
       "      <td>87000</td>\n",
       "      <td>Diesel</td>\n",
       "      <td>Manual</td>\n",
       "      <td>First</td>\n",
       "      <td>20.77</td>\n",
       "      <td>1248.0</td>\n",
       "      <td>88.76</td>\n",
       "      <td>7.0</td>\n",
       "      <td>6.00</td>\n",
       "      <td>kmpl</td>\n",
       "    </tr>\n",
       "    <tr>\n",
       "      <th>4</th>\n",
       "      <td>Audi</td>\n",
       "      <td>Coimbatore</td>\n",
       "      <td>2013</td>\n",
       "      <td>40670</td>\n",
       "      <td>Diesel</td>\n",
       "      <td>Automatic</td>\n",
       "      <td>Second</td>\n",
       "      <td>15.20</td>\n",
       "      <td>1968.0</td>\n",
       "      <td>140.80</td>\n",
       "      <td>5.0</td>\n",
       "      <td>17.74</td>\n",
       "      <td>kmpl</td>\n",
       "    </tr>\n",
       "  </tbody>\n",
       "</table>\n",
       "</div>"
      ],
      "text/plain": [
       "  Manufacturer    Location  Year  Kilometers_Driven Fuel_Type Transmission  \\\n",
       "0       Maruti      Mumbai  2010              72000       CNG       Manual   \n",
       "1      Hyundai        Pune  2015              41000    Diesel       Manual   \n",
       "2        Honda     Chennai  2011              46000    Petrol       Manual   \n",
       "3       Maruti     Chennai  2012              87000    Diesel       Manual   \n",
       "4         Audi  Coimbatore  2013              40670    Diesel    Automatic   \n",
       "\n",
       "  Owner_Type  Mileage  Engine   Power  Seats  Price Mileage_units  \n",
       "0      First    26.60   998.0   58.16    5.0   1.75         km/kg  \n",
       "1      First    19.67  1582.0  126.20    5.0  12.50          kmpl  \n",
       "2      First    18.20  1199.0   88.70    5.0   4.50          kmpl  \n",
       "3      First    20.77  1248.0   88.76    7.0   6.00          kmpl  \n",
       "4     Second    15.20  1968.0  140.80    5.0  17.74          kmpl  "
      ]
     },
     "execution_count": 114,
     "metadata": {},
     "output_type": "execute_result"
    }
   ],
   "source": [
    "data.head()"
   ]
  },
  {
   "cell_type": "code",
   "execution_count": 115,
   "metadata": {},
   "outputs": [
    {
     "data": {
      "image/png": "[encoded data removed]",
      "text/plain": [
       "<Figure size 1296x360 with 1 Axes>"
      ]
     },
     "metadata": {
      "needs_background": "light"
     },
     "output_type": "display_data"
    }
   ],
   "source": [
    "plt.figure(figsize=(18,5))\n",
    "sns.countplot(y = data['Fuel_Type'])\n",
    "plt.show()"
   ]
  },
  {
   "cell_type": "code",
   "execution_count": 116,
   "metadata": {},
   "outputs": [
    {
     "data": {
      "image/png": "[encoded data removed]",
      "text/plain": [
       "<Figure size 1296x360 with 1 Axes>"
      ]
     },
     "metadata": {
      "needs_background": "light"
     },
     "output_type": "display_data"
    }
   ],
   "source": [
    "plt.figure(figsize=(18,5))\n",
    "sns.countplot(y = data['Owner_Type'],palette=\"Set2\")\n",
    "plt.show()"
   ]
  },
  {
   "cell_type": "code",
   "execution_count": 117,
   "metadata": {},
   "outputs": [
    {
     "data": {
      "image/png": "[encoded data removed]",
      "text/plain": [
       "<Figure size 360x360 with 1 Axes>"
      ]
     },
     "metadata": {
      "needs_background": "light"
     },
     "output_type": "display_data"
    }
   ],
   "source": [
    "plt.figure(figsize=(5,5))\n",
    "sns.countplot(data['Transmission'])\n",
    "plt.show()"
   ]
  },
  {
   "cell_type": "code",
   "execution_count": 118,
   "metadata": {},
   "outputs": [
    {
     "data": {
      "image/png": "[encoded data removed]",
      "text/plain": [
       "<Figure size 1296x360 with 1 Axes>"
      ]
     },
     "metadata": {
      "needs_background": "light"
     },
     "output_type": "display_data"
    }
   ],
   "source": [
    "plt.figure(figsize=(18,5))\n",
    "sns.countplot(y = data['Seats'],palette=\"Set3\")\n",
    "plt.show()"
   ]
  },
  {
   "cell_type": "markdown",
   "metadata": {},
   "source": [
    "### Data Preparation"
   ]
  },
  {
   "cell_type": "code",
   "execution_count": 119,
   "metadata": {},
   "outputs": [
    {
     "data": {
      "text/html": [
       "<div>\n",
       "<style scoped>\n",
       "    .dataframe tbody tr th:only-of-type {\n",
       "        vertical-align: middle;\n",
       "    }\n",
       "\n",
       "    .dataframe tbody tr th {\n",
       "        vertical-align: top;\n",
       "    }\n",
       "\n",
       "    .dataframe thead th {\n",
       "        text-align: right;\n",
       "    }\n",
       "</style>\n",
       "<table border=\"1\" class=\"dataframe\">\n",
       "  <thead>\n",
       "    <tr style=\"text-align: right;\">\n",
       "      <th></th>\n",
       "      <th>Manufacturer</th>\n",
       "      <th>Location</th>\n",
       "      <th>Year</th>\n",
       "      <th>Kilometers_Driven</th>\n",
       "      <th>Fuel_Type</th>\n",
       "      <th>Transmission</th>\n",
       "      <th>Owner_Type</th>\n",
       "      <th>Mileage</th>\n",
       "      <th>Engine</th>\n",
       "      <th>Power</th>\n",
       "      <th>Seats</th>\n",
       "      <th>Price</th>\n",
       "      <th>Mileage_units</th>\n",
       "    </tr>\n",
       "  </thead>\n",
       "  <tbody>\n",
       "    <tr>\n",
       "      <th>0</th>\n",
       "      <td>Maruti</td>\n",
       "      <td>Mumbai</td>\n",
       "      <td>2010</td>\n",
       "      <td>72000</td>\n",
       "      <td>CNG</td>\n",
       "      <td>Manual</td>\n",
       "      <td>First</td>\n",
       "      <td>26.60</td>\n",
       "      <td>998.0</td>\n",
       "      <td>58.16</td>\n",
       "      <td>5.0</td>\n",
       "      <td>1.75</td>\n",
       "      <td>km/kg</td>\n",
       "    </tr>\n",
       "    <tr>\n",
       "      <th>1</th>\n",
       "      <td>Hyundai</td>\n",
       "      <td>Pune</td>\n",
       "      <td>2015</td>\n",
       "      <td>41000</td>\n",
       "      <td>Diesel</td>\n",
       "      <td>Manual</td>\n",
       "      <td>First</td>\n",
       "      <td>19.67</td>\n",
       "      <td>1582.0</td>\n",
       "      <td>126.20</td>\n",
       "      <td>5.0</td>\n",
       "      <td>12.50</td>\n",
       "      <td>kmpl</td>\n",
       "    </tr>\n",
       "    <tr>\n",
       "      <th>2</th>\n",
       "      <td>Honda</td>\n",
       "      <td>Chennai</td>\n",
       "      <td>2011</td>\n",
       "      <td>46000</td>\n",
       "      <td>Petrol</td>\n",
       "      <td>Manual</td>\n",
       "      <td>First</td>\n",
       "      <td>18.20</td>\n",
       "      <td>1199.0</td>\n",
       "      <td>88.70</td>\n",
       "      <td>5.0</td>\n",
       "      <td>4.50</td>\n",
       "      <td>kmpl</td>\n",
       "    </tr>\n",
       "    <tr>\n",
       "      <th>3</th>\n",
       "      <td>Maruti</td>\n",
       "      <td>Chennai</td>\n",
       "      <td>2012</td>\n",
       "      <td>87000</td>\n",
       "      <td>Diesel</td>\n",
       "      <td>Manual</td>\n",
       "      <td>First</td>\n",
       "      <td>20.77</td>\n",
       "      <td>1248.0</td>\n",
       "      <td>88.76</td>\n",
       "      <td>7.0</td>\n",
       "      <td>6.00</td>\n",
       "      <td>kmpl</td>\n",
       "    </tr>\n",
       "    <tr>\n",
       "      <th>4</th>\n",
       "      <td>Audi</td>\n",
       "      <td>Coimbatore</td>\n",
       "      <td>2013</td>\n",
       "      <td>40670</td>\n",
       "      <td>Diesel</td>\n",
       "      <td>Automatic</td>\n",
       "      <td>Second</td>\n",
       "      <td>15.20</td>\n",
       "      <td>1968.0</td>\n",
       "      <td>140.80</td>\n",
       "      <td>5.0</td>\n",
       "      <td>17.74</td>\n",
       "      <td>kmpl</td>\n",
       "    </tr>\n",
       "  </tbody>\n",
       "</table>\n",
       "</div>"
      ],
      "text/plain": [
       "  Manufacturer    Location  Year  Kilometers_Driven Fuel_Type Transmission  \\\n",
       "0       Maruti      Mumbai  2010              72000       CNG       Manual   \n",
       "1      Hyundai        Pune  2015              41000    Diesel       Manual   \n",
       "2        Honda     Chennai  2011              46000    Petrol       Manual   \n",
       "3       Maruti     Chennai  2012              87000    Diesel       Manual   \n",
       "4         Audi  Coimbatore  2013              40670    Diesel    Automatic   \n",
       "\n",
       "  Owner_Type  Mileage  Engine   Power  Seats  Price Mileage_units  \n",
       "0      First    26.60   998.0   58.16    5.0   1.75         km/kg  \n",
       "1      First    19.67  1582.0  126.20    5.0  12.50          kmpl  \n",
       "2      First    18.20  1199.0   88.70    5.0   4.50          kmpl  \n",
       "3      First    20.77  1248.0   88.76    7.0   6.00          kmpl  \n",
       "4     Second    15.20  1968.0  140.80    5.0  17.74          kmpl  "
      ]
     },
     "execution_count": 119,
     "metadata": {},
     "output_type": "execute_result"
    }
   ],
   "source": [
    "data.head()"
   ]
  },
  {
   "cell_type": "code",
   "execution_count": 120,
   "metadata": {},
   "outputs": [
    {
     "data": {
      "text/plain": [
       "First             4904\n",
       "Second             957\n",
       "Third              111\n",
       "Fourth & Above       8\n",
       "Name: Owner_Type, dtype: int64"
      ]
     },
     "execution_count": 120,
     "metadata": {},
     "output_type": "execute_result"
    }
   ],
   "source": [
    "data.Owner_Type.value_counts()"
   ]
  },
  {
   "cell_type": "code",
   "execution_count": 121,
   "metadata": {},
   "outputs": [],
   "source": [
    "data['Owner_Type'] = data['Owner_Type'].replace({'First':1,'Second':2,'Third':3,'Fourth & Above':4})"
   ]
  },
  {
   "cell_type": "code",
   "execution_count": 122,
   "metadata": {},
   "outputs": [],
   "source": [
    "from sklearn.preprocessing import LabelEncoder\n",
    "le=LabelEncoder()\n",
    "data[\"Year\"]=le.fit_transform(data[\"Year\"])"
   ]
  },
  {
   "cell_type": "code",
   "execution_count": 123,
   "metadata": {},
   "outputs": [],
   "source": [
    "data = pd.get_dummies(data, prefix_sep='_', drop_first=True)"
   ]
  },
  {
   "cell_type": "code",
   "execution_count": 124,
   "metadata": {},
   "outputs": [
    {
     "data": {
      "text/html": [
       "<div>\n",
       "<style scoped>\n",
       "    .dataframe tbody tr th:only-of-type {\n",
       "        vertical-align: middle;\n",
       "    }\n",
       "\n",
       "    .dataframe tbody tr th {\n",
       "        vertical-align: top;\n",
       "    }\n",
       "\n",
       "    .dataframe thead th {\n",
       "        text-align: right;\n",
       "    }\n",
       "</style>\n",
       "<table border=\"1\" class=\"dataframe\">\n",
       "  <thead>\n",
       "    <tr style=\"text-align: right;\">\n",
       "      <th></th>\n",
       "      <th>Year</th>\n",
       "      <th>Kilometers_Driven</th>\n",
       "      <th>Owner_Type</th>\n",
       "      <th>Mileage</th>\n",
       "      <th>Engine</th>\n",
       "      <th>Power</th>\n",
       "      <th>Seats</th>\n",
       "      <th>Price</th>\n",
       "      <th>Manufacturer_Audi</th>\n",
       "      <th>Manufacturer_BMW</th>\n",
       "      <th>...</th>\n",
       "      <th>Location_Jaipur</th>\n",
       "      <th>Location_Kochi</th>\n",
       "      <th>Location_Kolkata</th>\n",
       "      <th>Location_Mumbai</th>\n",
       "      <th>Location_Pune</th>\n",
       "      <th>Fuel_Type_Diesel</th>\n",
       "      <th>Fuel_Type_LPG</th>\n",
       "      <th>Fuel_Type_Petrol</th>\n",
       "      <th>Transmission_Manual</th>\n",
       "      <th>Mileage_units_kmpl</th>\n",
       "    </tr>\n",
       "  </thead>\n",
       "  <tbody>\n",
       "    <tr>\n",
       "      <th>0</th>\n",
       "      <td>12</td>\n",
       "      <td>72000</td>\n",
       "      <td>1</td>\n",
       "      <td>26.60</td>\n",
       "      <td>998.0</td>\n",
       "      <td>58.16</td>\n",
       "      <td>5.0</td>\n",
       "      <td>1.75</td>\n",
       "      <td>0</td>\n",
       "      <td>0</td>\n",
       "      <td>...</td>\n",
       "      <td>0</td>\n",
       "      <td>0</td>\n",
       "      <td>0</td>\n",
       "      <td>1</td>\n",
       "      <td>0</td>\n",
       "      <td>0</td>\n",
       "      <td>0</td>\n",
       "      <td>0</td>\n",
       "      <td>1</td>\n",
       "      <td>0</td>\n",
       "    </tr>\n",
       "    <tr>\n",
       "      <th>1</th>\n",
       "      <td>17</td>\n",
       "      <td>41000</td>\n",
       "      <td>1</td>\n",
       "      <td>19.67</td>\n",
       "      <td>1582.0</td>\n",
       "      <td>126.20</td>\n",
       "      <td>5.0</td>\n",
       "      <td>12.50</td>\n",
       "      <td>0</td>\n",
       "      <td>0</td>\n",
       "      <td>...</td>\n",
       "      <td>0</td>\n",
       "      <td>0</td>\n",
       "      <td>0</td>\n",
       "      <td>0</td>\n",
       "      <td>1</td>\n",
       "      <td>1</td>\n",
       "      <td>0</td>\n",
       "      <td>0</td>\n",
       "      <td>1</td>\n",
       "      <td>1</td>\n",
       "    </tr>\n",
       "    <tr>\n",
       "      <th>2</th>\n",
       "      <td>13</td>\n",
       "      <td>46000</td>\n",
       "      <td>1</td>\n",
       "      <td>18.20</td>\n",
       "      <td>1199.0</td>\n",
       "      <td>88.70</td>\n",
       "      <td>5.0</td>\n",
       "      <td>4.50</td>\n",
       "      <td>0</td>\n",
       "      <td>0</td>\n",
       "      <td>...</td>\n",
       "      <td>0</td>\n",
       "      <td>0</td>\n",
       "      <td>0</td>\n",
       "      <td>0</td>\n",
       "      <td>0</td>\n",
       "      <td>0</td>\n",
       "      <td>0</td>\n",
       "      <td>1</td>\n",
       "      <td>1</td>\n",
       "      <td>1</td>\n",
       "    </tr>\n",
       "    <tr>\n",
       "      <th>3</th>\n",
       "      <td>14</td>\n",
       "      <td>87000</td>\n",
       "      <td>1</td>\n",
       "      <td>20.77</td>\n",
       "      <td>1248.0</td>\n",
       "      <td>88.76</td>\n",
       "      <td>7.0</td>\n",
       "      <td>6.00</td>\n",
       "      <td>0</td>\n",
       "      <td>0</td>\n",
       "      <td>...</td>\n",
       "      <td>0</td>\n",
       "      <td>0</td>\n",
       "      <td>0</td>\n",
       "      <td>0</td>\n",
       "      <td>0</td>\n",
       "      <td>1</td>\n",
       "      <td>0</td>\n",
       "      <td>0</td>\n",
       "      <td>1</td>\n",
       "      <td>1</td>\n",
       "    </tr>\n",
       "    <tr>\n",
       "      <th>4</th>\n",
       "      <td>15</td>\n",
       "      <td>40670</td>\n",
       "      <td>2</td>\n",
       "      <td>15.20</td>\n",
       "      <td>1968.0</td>\n",
       "      <td>140.80</td>\n",
       "      <td>5.0</td>\n",
       "      <td>17.74</td>\n",
       "      <td>1</td>\n",
       "      <td>0</td>\n",
       "      <td>...</td>\n",
       "      <td>0</td>\n",
       "      <td>0</td>\n",
       "      <td>0</td>\n",
       "      <td>0</td>\n",
       "      <td>0</td>\n",
       "      <td>1</td>\n",
       "      <td>0</td>\n",
       "      <td>0</td>\n",
       "      <td>0</td>\n",
       "      <td>1</td>\n",
       "    </tr>\n",
       "  </tbody>\n",
       "</table>\n",
       "<p>5 rows × 52 columns</p>\n",
       "</div>"
      ],
      "text/plain": [
       "   Year  Kilometers_Driven  Owner_Type  Mileage  Engine   Power  Seats  Price  \\\n",
       "0    12              72000           1    26.60   998.0   58.16    5.0   1.75   \n",
       "1    17              41000           1    19.67  1582.0  126.20    5.0  12.50   \n",
       "2    13              46000           1    18.20  1199.0   88.70    5.0   4.50   \n",
       "3    14              87000           1    20.77  1248.0   88.76    7.0   6.00   \n",
       "4    15              40670           2    15.20  1968.0  140.80    5.0  17.74   \n",
       "\n",
       "   Manufacturer_Audi  Manufacturer_BMW  ...  Location_Jaipur  Location_Kochi  \\\n",
       "0                  0                 0  ...                0               0   \n",
       "1                  0                 0  ...                0               0   \n",
       "2                  0                 0  ...                0               0   \n",
       "3                  0                 0  ...                0               0   \n",
       "4                  1                 0  ...                0               0   \n",
       "\n",
       "   Location_Kolkata  Location_Mumbai  Location_Pune  Fuel_Type_Diesel  \\\n",
       "0                 0                1              0                 0   \n",
       "1                 0                0              1                 1   \n",
       "2                 0                0              0                 0   \n",
       "3                 0                0              0                 1   \n",
       "4                 0                0              0                 1   \n",
       "\n",
       "   Fuel_Type_LPG  Fuel_Type_Petrol  Transmission_Manual  Mileage_units_kmpl  \n",
       "0              0                 0                    1                   0  \n",
       "1              0                 0                    1                   1  \n",
       "2              0                 1                    1                   1  \n",
       "3              0                 0                    1                   1  \n",
       "4              0                 0                    0                   1  \n",
       "\n",
       "[5 rows x 52 columns]"
      ]
     },
     "execution_count": 124,
     "metadata": {},
     "output_type": "execute_result"
    }
   ],
   "source": [
    "data.head()"
   ]
  },
  {
   "cell_type": "raw",
   "metadata": {},
   "source": [
    "data1 = data.copy()"
   ]
  },
  {
   "cell_type": "raw",
   "metadata": {},
   "source": [
    "#Applying transformations:\n",
    "col = ['Kilometers_Driven','Mileage', 'Power', 'Engine', 'Price']\n",
    "for var in col:\n",
    "    data1[var] = np.log(data1[var])"
   ]
  },
  {
   "cell_type": "code",
   "execution_count": 187,
   "metadata": {},
   "outputs": [],
   "source": [
    "X = data.drop('Price',axis=1)\n",
    "y = data.Price"
   ]
  },
  {
   "cell_type": "markdown",
   "metadata": {},
   "source": [
    "## Feature Selection"
   ]
  },
  {
   "cell_type": "markdown",
   "metadata": {},
   "source": [
    "###  Backward elimination"
   ]
  },
  {
   "cell_type": "code",
   "execution_count": 126,
   "metadata": {
    "scrolled": true
   },
   "outputs": [
    {
     "data": {
      "text/plain": [
       "const                          2.137172e-01\n",
       "Year                          2.007893e-189\n",
       "Kilometers_Driven              8.332616e-21\n",
       "Owner_Type                     8.369481e-02\n",
       "Mileage                        5.061361e-05\n",
       "Engine                         1.424609e-06\n",
       "Power                          4.961670e-92\n",
       "Seats                          2.739090e-01\n",
       "Manufacturer_Audi              9.656130e-01\n",
       "Manufacturer_BMW               9.185999e-01\n",
       "Manufacturer_Bentley           6.441795e-01\n",
       "Manufacturer_Chevrolet         9.023965e-02\n",
       "Manufacturer_Datsun            6.233640e-02\n",
       "Manufacturer_Fiat              1.181224e-01\n",
       "Manufacturer_Force             6.709909e-02\n",
       "Manufacturer_Ford              1.281729e-01\n",
       "Manufacturer_Honda             7.913026e-02\n",
       "Manufacturer_Hyundai           1.090239e-01\n",
       "Manufacturer_Isuzu             3.676532e-02\n",
       "Manufacturer_Jaguar            1.981678e-01\n",
       "Manufacturer_Jeep              1.568249e-01\n",
       "Manufacturer_Lamborghini       1.205856e-16\n",
       "Manufacturer_Land              1.141926e-02\n",
       "Manufacturer_Mahindra          3.441405e-02\n",
       "Manufacturer_Maruti            1.687901e-01\n",
       "Manufacturer_Mercedes-Benz     7.798843e-01\n",
       "Manufacturer_Mini              2.795141e-01\n",
       "Manufacturer_Mitsubishi        1.376290e-01\n",
       "Manufacturer_Nissan            1.000602e-01\n",
       "Manufacturer_Porsche           5.164080e-02\n",
       "Manufacturer_Renault           8.482587e-02\n",
       "Manufacturer_Skoda             9.093138e-02\n",
       "Manufacturer_Smart             2.770980e-01\n",
       "Manufacturer_Tata              7.296156e-02\n",
       "Manufacturer_Toyota            1.732361e-01\n",
       "Manufacturer_Volkswagen        8.325765e-02\n",
       "Manufacturer_Volvo             3.183865e-01\n",
       "Location_Bangalore             3.149542e-05\n",
       "Location_Chennai               1.739735e-03\n",
       "Location_Coimbatore            1.325318e-06\n",
       "Location_Delhi                 1.539457e-01\n",
       "Location_Hyderabad             9.442578e-06\n",
       "Location_Jaipur                1.900430e-02\n",
       "Location_Kochi                 8.388146e-01\n",
       "Location_Kolkata               7.474819e-03\n",
       "Location_Mumbai                9.504481e-02\n",
       "Location_Pune                  1.865309e-01\n",
       "Fuel_Type_Diesel               1.008299e-01\n",
       "Fuel_Type_LPG                  6.500775e-01\n",
       "Fuel_Type_Petrol               3.334833e-03\n",
       "Transmission_Manual            7.129635e-01\n",
       "Mileage_units_kmpl             4.361869e-01\n",
       "dtype: float64"
      ]
     },
     "execution_count": 126,
     "metadata": {},
     "output_type": "execute_result"
    }
   ],
   "source": [
    "import warnings \n",
    "warnings.filterwarnings('ignore')\n",
    "import statsmodels.api as sm\n",
    "#Adding constant column of ones, mandatory for sm.OLS model\n",
    "X_1 = sm.add_constant(X)\n",
    "#Fitting sm.OLS model\n",
    "model = sm.OLS(y,X_1).fit()\n",
    "model.pvalues"
   ]
  },
  {
   "cell_type": "markdown",
   "metadata": {},
   "source": [
    "* All the variables are given as input and eventually we remove the features one by one which is not creating impact to the model\n",
    "* Performance metric used here to evaluate feature performance is pvalue. If the pvalue is above 0.05 then we remove the feature"
   ]
  },
  {
   "cell_type": "code",
   "execution_count": 127,
   "metadata": {},
   "outputs": [
    {
     "name": "stdout",
     "output_type": "stream",
     "text": [
      "['Year', 'Kilometers_Driven', 'Mileage', 'Engine', 'Power', 'Manufacturer_Chevrolet', 'Manufacturer_Datsun', 'Manufacturer_Fiat', 'Manufacturer_Force', 'Manufacturer_Ford', 'Manufacturer_Honda', 'Manufacturer_Hyundai', 'Manufacturer_Isuzu', 'Manufacturer_Jaguar', 'Manufacturer_Jeep', 'Manufacturer_Lamborghini', 'Manufacturer_Land', 'Manufacturer_Mahindra', 'Manufacturer_Maruti', 'Manufacturer_Mercedes-Benz', 'Manufacturer_Mini', 'Manufacturer_Mitsubishi', 'Manufacturer_Nissan', 'Manufacturer_Porsche', 'Manufacturer_Renault', 'Manufacturer_Skoda', 'Manufacturer_Tata', 'Manufacturer_Toyota', 'Manufacturer_Volkswagen', 'Manufacturer_Volvo', 'Location_Bangalore', 'Location_Chennai', 'Location_Coimbatore', 'Location_Hyderabad', 'Location_Jaipur', 'Location_Kolkata', 'Location_Pune', 'Fuel_Type_Petrol']\n"
     ]
    }
   ],
   "source": [
    "#Backward Elimination\n",
    "cols = list(X.columns)\n",
    "pmax = 1\n",
    "while (len(cols)>0):\n",
    "    p= []\n",
    "    X_1 = X[cols]\n",
    "    X_1 = sm.add_constant(X_1)\n",
    "    model = sm.OLS(y,X_1).fit()\n",
    "    p = pd.Series(model.pvalues.values[1:],index = cols)      \n",
    "    pmax = max(p)\n",
    "    feature_with_p_max = p.idxmax()\n",
    "    if(pmax>0.05):\n",
    "        cols.remove(feature_with_p_max)\n",
    "    else:\n",
    "        break\n",
    "selected_features_BE = cols\n",
    "print(selected_features_BE)"
   ]
  },
  {
   "cell_type": "code",
   "execution_count": 128,
   "metadata": {},
   "outputs": [
    {
     "data": {
      "text/plain": [
       "38"
      ]
     },
     "execution_count": 128,
     "metadata": {},
     "output_type": "execute_result"
    }
   ],
   "source": [
    "len(selected_features_BE)"
   ]
  },
  {
   "cell_type": "markdown",
   "metadata": {},
   "source": [
    "### Assumptions of Linear Regression"
   ]
  },
  {
   "cell_type": "code",
   "execution_count": 185,
   "metadata": {},
   "outputs": [],
   "source": [
    "X = (data[['Year', 'Kilometers_Driven', 'Mileage', 'Engine', 'Power', 'Manufacturer_Chevrolet', 'Manufacturer_Datsun', 'Manufacturer_Fiat', 'Manufacturer_Force', 'Manufacturer_Ford', 'Manufacturer_Honda', 'Manufacturer_Hyundai', 'Manufacturer_Isuzu', 'Manufacturer_Jaguar', 'Manufacturer_Jeep', 'Manufacturer_Lamborghini', 'Manufacturer_Land', 'Manufacturer_Mahindra', 'Manufacturer_Maruti', 'Manufacturer_Mercedes-Benz', 'Manufacturer_Mini', 'Manufacturer_Mitsubishi', 'Manufacturer_Nissan', 'Manufacturer_Porsche', 'Manufacturer_Renault', 'Manufacturer_Skoda', 'Manufacturer_Tata', 'Manufacturer_Toyota', 'Manufacturer_Volkswagen', 'Manufacturer_Volvo', 'Location_Bangalore', 'Location_Chennai', 'Location_Coimbatore', 'Location_Hyderabad', 'Location_Jaipur', 'Location_Kolkata', 'Location_Pune', 'Fuel_Type_Petrol']])\n",
    "y = np.log(data.Price)"
   ]
  },
  {
   "cell_type": "code",
   "execution_count": 186,
   "metadata": {},
   "outputs": [
    {
     "data": {
      "text/html": [
       "<table class=\"simpletable\">\n",
       "<caption>OLS Regression Results</caption>\n",
       "<tr>\n",
       "  <th>Dep. Variable:</th>          <td>Price</td>      <th>  R-squared:         </th> <td>   0.923</td>\n",
       "</tr>\n",
       "<tr>\n",
       "  <th>Model:</th>                   <td>OLS</td>       <th>  Adj. R-squared:    </th> <td>   0.923</td>\n",
       "</tr>\n",
       "<tr>\n",
       "  <th>Method:</th>             <td>Least Squares</td>  <th>  F-statistic:       </th> <td>   1881.</td>\n",
       "</tr>\n",
       "<tr>\n",
       "  <th>Date:</th>             <td>Wed, 01 Jan 2020</td> <th>  Prob (F-statistic):</th>  <td>  0.00</td> \n",
       "</tr>\n",
       "<tr>\n",
       "  <th>Time:</th>                 <td>21:57:04</td>     <th>  Log-Likelihood:    </th> <td>  9.3670</td>\n",
       "</tr>\n",
       "<tr>\n",
       "  <th>No. Observations:</th>      <td>  5980</td>      <th>  AIC:               </th> <td>   59.27</td>\n",
       "</tr>\n",
       "<tr>\n",
       "  <th>Df Residuals:</th>          <td>  5941</td>      <th>  BIC:               </th> <td>   320.4</td>\n",
       "</tr>\n",
       "<tr>\n",
       "  <th>Df Model:</th>              <td>    38</td>      <th>                     </th>     <td> </td>   \n",
       "</tr>\n",
       "<tr>\n",
       "  <th>Covariance Type:</th>      <td>nonrobust</td>    <th>                     </th>     <td> </td>   \n",
       "</tr>\n",
       "</table>\n",
       "<table class=\"simpletable\">\n",
       "<tr>\n",
       "               <td></td>                 <th>coef</th>     <th>std err</th>      <th>t</th>      <th>P>|t|</th>  <th>[0.025</th>    <th>0.975]</th>  \n",
       "</tr>\n",
       "<tr>\n",
       "  <th>const</th>                      <td>    0.0204</td> <td>    0.046</td> <td>    0.446</td> <td> 0.656</td> <td>   -0.069</td> <td>    0.110</td>\n",
       "</tr>\n",
       "<tr>\n",
       "  <th>Year</th>                       <td>    0.1316</td> <td>    0.001</td> <td>  105.853</td> <td> 0.000</td> <td>    0.129</td> <td>    0.134</td>\n",
       "</tr>\n",
       "<tr>\n",
       "  <th>Kilometers_Driven</th>          <td> -8.89e-07</td> <td> 1.03e-07</td> <td>   -8.590</td> <td> 0.000</td> <td>-1.09e-06</td> <td>-6.86e-07</td>\n",
       "</tr>\n",
       "<tr>\n",
       "  <th>Mileage</th>                    <td>   -0.0231</td> <td>    0.001</td> <td>  -16.766</td> <td> 0.000</td> <td>   -0.026</td> <td>   -0.020</td>\n",
       "</tr>\n",
       "<tr>\n",
       "  <th>Engine</th>                     <td>    0.0002</td> <td> 1.67e-05</td> <td>   10.074</td> <td> 0.000</td> <td>    0.000</td> <td>    0.000</td>\n",
       "</tr>\n",
       "<tr>\n",
       "  <th>Power</th>                      <td>    0.0053</td> <td>    0.000</td> <td>   30.119</td> <td> 0.000</td> <td>    0.005</td> <td>    0.006</td>\n",
       "</tr>\n",
       "<tr>\n",
       "  <th>Manufacturer_Chevrolet</th>     <td>   -0.9308</td> <td>    0.027</td> <td>  -34.177</td> <td> 0.000</td> <td>   -0.984</td> <td>   -0.877</td>\n",
       "</tr>\n",
       "<tr>\n",
       "  <th>Manufacturer_Datsun</th>        <td>   -1.0336</td> <td>    0.070</td> <td>  -14.725</td> <td> 0.000</td> <td>   -1.171</td> <td>   -0.896</td>\n",
       "</tr>\n",
       "<tr>\n",
       "  <th>Manufacturer_Fiat</th>          <td>   -0.8765</td> <td>    0.051</td> <td>  -17.142</td> <td> 0.000</td> <td>   -0.977</td> <td>   -0.776</td>\n",
       "</tr>\n",
       "<tr>\n",
       "  <th>Manufacturer_Force</th>         <td>   -0.4864</td> <td>    0.141</td> <td>   -3.452</td> <td> 0.001</td> <td>   -0.763</td> <td>   -0.210</td>\n",
       "</tr>\n",
       "<tr>\n",
       "  <th>Manufacturer_Ford</th>          <td>   -0.6867</td> <td>    0.021</td> <td>  -32.298</td> <td> 0.000</td> <td>   -0.728</td> <td>   -0.645</td>\n",
       "</tr>\n",
       "<tr>\n",
       "  <th>Manufacturer_Honda</th>         <td>   -0.5526</td> <td>    0.018</td> <td>  -29.929</td> <td> 0.000</td> <td>   -0.589</td> <td>   -0.516</td>\n",
       "</tr>\n",
       "<tr>\n",
       "  <th>Manufacturer_Hyundai</th>       <td>   -0.6107</td> <td>    0.018</td> <td>  -34.520</td> <td> 0.000</td> <td>   -0.645</td> <td>   -0.576</td>\n",
       "</tr>\n",
       "<tr>\n",
       "  <th>Manufacturer_Isuzu</th>         <td>   -0.8783</td> <td>    0.142</td> <td>   -6.206</td> <td> 0.000</td> <td>   -1.156</td> <td>   -0.601</td>\n",
       "</tr>\n",
       "<tr>\n",
       "  <th>Manufacturer_Jaguar</th>        <td>    0.0069</td> <td>    0.040</td> <td>    0.173</td> <td> 0.862</td> <td>   -0.072</td> <td>    0.085</td>\n",
       "</tr>\n",
       "<tr>\n",
       "  <th>Manufacturer_Jeep</th>          <td>   -0.4692</td> <td>    0.064</td> <td>   -7.344</td> <td> 0.000</td> <td>   -0.594</td> <td>   -0.344</td>\n",
       "</tr>\n",
       "<tr>\n",
       "  <th>Manufacturer_Lamborghini</th>   <td>   -0.3287</td> <td>    0.246</td> <td>   -1.337</td> <td> 0.181</td> <td>   -0.810</td> <td>    0.153</td>\n",
       "</tr>\n",
       "<tr>\n",
       "  <th>Manufacturer_Land</th>          <td>    0.2233</td> <td>    0.034</td> <td>    6.482</td> <td> 0.000</td> <td>    0.156</td> <td>    0.291</td>\n",
       "</tr>\n",
       "<tr>\n",
       "  <th>Manufacturer_Mahindra</th>      <td>   -0.7361</td> <td>    0.022</td> <td>  -33.462</td> <td> 0.000</td> <td>   -0.779</td> <td>   -0.693</td>\n",
       "</tr>\n",
       "<tr>\n",
       "  <th>Manufacturer_Maruti</th>        <td>   -0.5959</td> <td>    0.019</td> <td>  -31.741</td> <td> 0.000</td> <td>   -0.633</td> <td>   -0.559</td>\n",
       "</tr>\n",
       "<tr>\n",
       "  <th>Manufacturer_Mercedes-Benz</th> <td>    0.0320</td> <td>    0.018</td> <td>    1.809</td> <td> 0.071</td> <td>   -0.003</td> <td>    0.067</td>\n",
       "</tr>\n",
       "<tr>\n",
       "  <th>Manufacturer_Mini</th>          <td>    0.4887</td> <td>    0.049</td> <td>    9.919</td> <td> 0.000</td> <td>    0.392</td> <td>    0.585</td>\n",
       "</tr>\n",
       "<tr>\n",
       "  <th>Manufacturer_Mitsubishi</th>    <td>   -0.3916</td> <td>    0.050</td> <td>   -7.855</td> <td> 0.000</td> <td>   -0.489</td> <td>   -0.294</td>\n",
       "</tr>\n",
       "<tr>\n",
       "  <th>Manufacturer_Nissan</th>        <td>   -0.6505</td> <td>    0.030</td> <td>  -21.472</td> <td> 0.000</td> <td>   -0.710</td> <td>   -0.591</td>\n",
       "</tr>\n",
       "<tr>\n",
       "  <th>Manufacturer_Porsche</th>       <td>   -0.2118</td> <td>    0.060</td> <td>   -3.539</td> <td> 0.000</td> <td>   -0.329</td> <td>   -0.094</td>\n",
       "</tr>\n",
       "<tr>\n",
       "  <th>Manufacturer_Renault</th>       <td>   -0.6555</td> <td>    0.026</td> <td>  -25.334</td> <td> 0.000</td> <td>   -0.706</td> <td>   -0.605</td>\n",
       "</tr>\n",
       "<tr>\n",
       "  <th>Manufacturer_Skoda</th>         <td>   -0.5059</td> <td>    0.023</td> <td>  -21.860</td> <td> 0.000</td> <td>   -0.551</td> <td>   -0.460</td>\n",
       "</tr>\n",
       "<tr>\n",
       "  <th>Manufacturer_Tata</th>          <td>   -1.0911</td> <td>    0.025</td> <td>  -44.368</td> <td> 0.000</td> <td>   -1.139</td> <td>   -1.043</td>\n",
       "</tr>\n",
       "<tr>\n",
       "  <th>Manufacturer_Toyota</th>        <td>   -0.3785</td> <td>    0.021</td> <td>  -17.980</td> <td> 0.000</td> <td>   -0.420</td> <td>   -0.337</td>\n",
       "</tr>\n",
       "<tr>\n",
       "  <th>Manufacturer_Volkswagen</th>    <td>   -0.6319</td> <td>    0.021</td> <td>  -30.224</td> <td> 0.000</td> <td>   -0.673</td> <td>   -0.591</td>\n",
       "</tr>\n",
       "<tr>\n",
       "  <th>Manufacturer_Volvo</th>         <td>   -0.1574</td> <td>    0.054</td> <td>   -2.908</td> <td> 0.004</td> <td>   -0.263</td> <td>   -0.051</td>\n",
       "</tr>\n",
       "<tr>\n",
       "  <th>Location_Bangalore</th>         <td>    0.1886</td> <td>    0.014</td> <td>   13.442</td> <td> 0.000</td> <td>    0.161</td> <td>    0.216</td>\n",
       "</tr>\n",
       "<tr>\n",
       "  <th>Location_Chennai</th>           <td>    0.0747</td> <td>    0.013</td> <td>    5.970</td> <td> 0.000</td> <td>    0.050</td> <td>    0.099</td>\n",
       "</tr>\n",
       "<tr>\n",
       "  <th>Location_Coimbatore</th>        <td>    0.1273</td> <td>    0.011</td> <td>   11.459</td> <td> 0.000</td> <td>    0.106</td> <td>    0.149</td>\n",
       "</tr>\n",
       "<tr>\n",
       "  <th>Location_Hyderabad</th>         <td>    0.1620</td> <td>    0.011</td> <td>   15.245</td> <td> 0.000</td> <td>    0.141</td> <td>    0.183</td>\n",
       "</tr>\n",
       "<tr>\n",
       "  <th>Location_Jaipur</th>            <td>   -0.0237</td> <td>    0.013</td> <td>   -1.771</td> <td> 0.077</td> <td>   -0.050</td> <td>    0.003</td>\n",
       "</tr>\n",
       "<tr>\n",
       "  <th>Location_Kolkata</th>           <td>   -0.1768</td> <td>    0.012</td> <td>  -14.836</td> <td> 0.000</td> <td>   -0.200</td> <td>   -0.153</td>\n",
       "</tr>\n",
       "<tr>\n",
       "  <th>Location_Pune</th>              <td>   -0.0035</td> <td>    0.011</td> <td>   -0.305</td> <td> 0.761</td> <td>   -0.026</td> <td>    0.019</td>\n",
       "</tr>\n",
       "<tr>\n",
       "  <th>Fuel_Type_Petrol</th>           <td>   -0.2889</td> <td>    0.010</td> <td>  -29.147</td> <td> 0.000</td> <td>   -0.308</td> <td>   -0.270</td>\n",
       "</tr>\n",
       "</table>\n",
       "<table class=\"simpletable\">\n",
       "<tr>\n",
       "  <th>Omnibus:</th>       <td>1630.387</td> <th>  Durbin-Watson:     </th> <td>   2.001</td> \n",
       "</tr>\n",
       "<tr>\n",
       "  <th>Prob(Omnibus):</th>  <td> 0.000</td>  <th>  Jarque-Bera (JB):  </th> <td>25045.020</td>\n",
       "</tr>\n",
       "<tr>\n",
       "  <th>Skew:</th>           <td>-0.885</td>  <th>  Prob(JB):          </th> <td>    0.00</td> \n",
       "</tr>\n",
       "<tr>\n",
       "  <th>Kurtosis:</th>       <td>12.868</td>  <th>  Cond. No.          </th> <td>5.41e+06</td> \n",
       "</tr>\n",
       "</table><br/><br/>Warnings:<br/>[1] Standard Errors assume that the covariance matrix of the errors is correctly specified.<br/>[2] The condition number is large, 5.41e+06. This might indicate that there are<br/>strong multicollinearity or other numerical problems."
      ],
      "text/plain": [
       "<class 'statsmodels.iolib.summary.Summary'>\n",
       "\"\"\"\n",
       "                            OLS Regression Results                            \n",
       "==============================================================================\n",
       "Dep. Variable:                  Price   R-squared:                       0.923\n",
       "Model:                            OLS   Adj. R-squared:                  0.923\n",
       "Method:                 Least Squares   F-statistic:                     1881.\n",
       "Date:                Wed, 01 Jan 2020   Prob (F-statistic):               0.00\n",
       "Time:                        21:57:04   Log-Likelihood:                 9.3670\n",
       "No. Observations:                5980   AIC:                             59.27\n",
       "Df Residuals:                    5941   BIC:                             320.4\n",
       "Df Model:                          38                                         \n",
       "Covariance Type:            nonrobust                                         \n",
       "==============================================================================================\n",
       "                                 coef    std err          t      P>|t|      [0.025      0.975]\n",
       "----------------------------------------------------------------------------------------------\n",
       "const                          0.0204      0.046      0.446      0.656      -0.069       0.110\n",
       "Year                           0.1316      0.001    105.853      0.000       0.129       0.134\n",
       "Kilometers_Driven           -8.89e-07   1.03e-07     -8.590      0.000   -1.09e-06   -6.86e-07\n",
       "Mileage                       -0.0231      0.001    -16.766      0.000      -0.026      -0.020\n",
       "Engine                         0.0002   1.67e-05     10.074      0.000       0.000       0.000\n",
       "Power                          0.0053      0.000     30.119      0.000       0.005       0.006\n",
       "Manufacturer_Chevrolet        -0.9308      0.027    -34.177      0.000      -0.984      -0.877\n",
       "Manufacturer_Datsun           -1.0336      0.070    -14.725      0.000      -1.171      -0.896\n",
       "Manufacturer_Fiat             -0.8765      0.051    -17.142      0.000      -0.977      -0.776\n",
       "Manufacturer_Force            -0.4864      0.141     -3.452      0.001      -0.763      -0.210\n",
       "Manufacturer_Ford             -0.6867      0.021    -32.298      0.000      -0.728      -0.645\n",
       "Manufacturer_Honda            -0.5526      0.018    -29.929      0.000      -0.589      -0.516\n",
       "Manufacturer_Hyundai          -0.6107      0.018    -34.520      0.000      -0.645      -0.576\n",
       "Manufacturer_Isuzu            -0.8783      0.142     -6.206      0.000      -1.156      -0.601\n",
       "Manufacturer_Jaguar            0.0069      0.040      0.173      0.862      -0.072       0.085\n",
       "Manufacturer_Jeep             -0.4692      0.064     -7.344      0.000      -0.594      -0.344\n",
       "Manufacturer_Lamborghini      -0.3287      0.246     -1.337      0.181      -0.810       0.153\n",
       "Manufacturer_Land              0.2233      0.034      6.482      0.000       0.156       0.291\n",
       "Manufacturer_Mahindra         -0.7361      0.022    -33.462      0.000      -0.779      -0.693\n",
       "Manufacturer_Maruti           -0.5959      0.019    -31.741      0.000      -0.633      -0.559\n",
       "Manufacturer_Mercedes-Benz     0.0320      0.018      1.809      0.071      -0.003       0.067\n",
       "Manufacturer_Mini              0.4887      0.049      9.919      0.000       0.392       0.585\n",
       "Manufacturer_Mitsubishi       -0.3916      0.050     -7.855      0.000      -0.489      -0.294\n",
       "Manufacturer_Nissan           -0.6505      0.030    -21.472      0.000      -0.710      -0.591\n",
       "Manufacturer_Porsche          -0.2118      0.060     -3.539      0.000      -0.329      -0.094\n",
       "Manufacturer_Renault          -0.6555      0.026    -25.334      0.000      -0.706      -0.605\n",
       "Manufacturer_Skoda            -0.5059      0.023    -21.860      0.000      -0.551      -0.460\n",
       "Manufacturer_Tata             -1.0911      0.025    -44.368      0.000      -1.139      -1.043\n",
       "Manufacturer_Toyota           -0.3785      0.021    -17.980      0.000      -0.420      -0.337\n",
       "Manufacturer_Volkswagen       -0.6319      0.021    -30.224      0.000      -0.673      -0.591\n",
       "Manufacturer_Volvo            -0.1574      0.054     -2.908      0.004      -0.263      -0.051\n",
       "Location_Bangalore             0.1886      0.014     13.442      0.000       0.161       0.216\n",
       "Location_Chennai               0.0747      0.013      5.970      0.000       0.050       0.099\n",
       "Location_Coimbatore            0.1273      0.011     11.459      0.000       0.106       0.149\n",
       "Location_Hyderabad             0.1620      0.011     15.245      0.000       0.141       0.183\n",
       "Location_Jaipur               -0.0237      0.013     -1.771      0.077      -0.050       0.003\n",
       "Location_Kolkata              -0.1768      0.012    -14.836      0.000      -0.200      -0.153\n",
       "Location_Pune                 -0.0035      0.011     -0.305      0.761      -0.026       0.019\n",
       "Fuel_Type_Petrol              -0.2889      0.010    -29.147      0.000      -0.308      -0.270\n",
       "==============================================================================\n",
       "Omnibus:                     1630.387   Durbin-Watson:                   2.001\n",
       "Prob(Omnibus):                  0.000   Jarque-Bera (JB):            25045.020\n",
       "Skew:                          -0.885   Prob(JB):                         0.00\n",
       "Kurtosis:                      12.868   Cond. No.                     5.41e+06\n",
       "==============================================================================\n",
       "\n",
       "Warnings:\n",
       "[1] Standard Errors assume that the covariance matrix of the errors is correctly specified.\n",
       "[2] The condition number is large, 5.41e+06. This might indicate that there are\n",
       "strong multicollinearity or other numerical problems.\n",
       "\"\"\""
      ]
     },
     "execution_count": 186,
     "metadata": {},
     "output_type": "execute_result"
    }
   ],
   "source": [
    "import warnings \n",
    "warnings.filterwarnings('ignore')\n",
    "import statsmodels.api as sm\n",
    "\n",
    "X_constant = sm.add_constant(X)\n",
    "lin_reg = sm.OLS(y,X_constant).fit()\n",
    "lin_reg.summary()"
   ]
  },
  {
   "cell_type": "markdown",
   "metadata": {},
   "source": [
    "##### Assumption 1- No autocorrelation"
   ]
  },
  {
   "cell_type": "markdown",
   "metadata": {},
   "source": [
    "\n",
    "1) No Auto correlation. \n",
    "\n",
    "Test needed : Durbin- Watson Test.\n",
    "    * It's value ranges from 0-4. If the value of Durbin- Watson is Between 0-2, it's known as Positive Autocorrelation.\n",
    "    * If the value ranges from 2-4, it is known as Negative autocorrelation.\n",
    "    * If the value is exactly 2, it means No Autocorrelation.\n",
    "\n",
    "For a good linear model, it should have low or no autocorrelation.\n",
    "\n",
    "we can see here the values of Dubrin-Watson test (test for normality): 2.005 (Almost No autocorrelation)\n",
    "    \n",
    "From the graph below, we can easily see that there is Almost No autocorrelation."
   ]
  },
  {
   "cell_type": "code",
   "execution_count": 131,
   "metadata": {},
   "outputs": [
    {
     "data": {
      "image/png": "[encoded data removed]",
      "text/plain": [
       "<Figure size 432x288 with 1 Axes>"
      ]
     },
     "metadata": {
      "needs_background": "light"
     },
     "output_type": "display_data"
    }
   ],
   "source": [
    "import statsmodels.tsa.api as smt\n",
    "\n",
    "acf = smt.graphics.plot_acf(lin_reg.resid, lags=40 , alpha=0.05)\n",
    "acf.show()"
   ]
  },
  {
   "cell_type": "markdown",
   "metadata": {},
   "source": [
    "##### Assumption 2- Normality of Residuals"
   ]
  },
  {
   "cell_type": "markdown",
   "metadata": {},
   "source": [
    "2) The second assumption is the Normality of Residuals. \n",
    "\n",
    "For this we prefer the Jarque Bera test. For a good model, the residuals should be normally distributed.\n",
    "The higher the value of Jarque Bera test , the lesser the residuals are normally distributed.\n",
    "We generally prefer a lower value of jarque bera test.\n",
    "\n",
    "The Jarque–Bera test is a goodness-of-fit test of whether sample data \n",
    "have the skewness and kurtosis matching a normal distribution.\n",
    "And jarque-bera test (test for normality) : 42056.703 "
   ]
  },
  {
   "cell_type": "code",
   "execution_count": 132,
   "metadata": {},
   "outputs": [
    {
     "name": "stdout",
     "output_type": "stream",
     "text": [
      "(33613.94729311298, 0.0)\n"
     ]
    }
   ],
   "source": [
    "from scipy import stats\n",
    "print(stats.jarque_bera(lin_reg.resid))"
   ]
  },
  {
   "cell_type": "markdown",
   "metadata": {},
   "source": [
    "The critical chi square value at the 5% level of significance is 5.99. If the computed value exceeds this value the null hypothesis is rejected.\n",
    "\n",
    "In this case the computed value of the JB statistic 42056.703021843285 is very much greater than 5.99. Thus we reject the null hypothesis that the error terms are normally distributed."
   ]
  },
  {
   "cell_type": "code",
   "execution_count": 133,
   "metadata": {},
   "outputs": [
    {
     "data": {
      "image/png": "[encoded data removed]",
      "text/plain": [
       "<Figure size 432x288 with 1 Axes>"
      ]
     },
     "metadata": {
      "needs_background": "light"
     },
     "output_type": "display_data"
    }
   ],
   "source": [
    "import seaborn as sns\n",
    "\n",
    "sns.distplot(lin_reg.resid)\n",
    "plt.show()"
   ]
  },
  {
   "cell_type": "markdown",
   "metadata": {},
   "source": [
    "##### Asssumption 3 - Linearity of residuals"
   ]
  },
  {
   "cell_type": "markdown",
   "metadata": {},
   "source": [
    "Here we have 2 options. Either we can plot the observed values Vs predicted values and plot the Residual Vs predicted values and see the linearity of residuals.\n",
    "OR\n",
    "We can go for rainbow test. Let's look both of them one by one."
   ]
  },
  {
   "cell_type": "code",
   "execution_count": 134,
   "metadata": {},
   "outputs": [
    {
     "data": {
      "image/png": "[encoded data removed]",
      "text/plain": [
       "<Figure size 864x360 with 2 Axes>"
      ]
     },
     "metadata": {},
     "output_type": "display_data"
    }
   ],
   "source": [
    "import statsmodels.stats.api as sms\n",
    "sns.set_style('darkgrid')\n",
    "sns.mpl.rcParams['figure.figsize'] = (12.0, 5.0)\n",
    "\n",
    "def linearity_test(model, y):\n",
    "    '''\n",
    "    Function for visually inspecting the assumption of linearity in a linear regression model.\n",
    "    It plots observed vs. predicted values and residuals vs. predicted values.\n",
    "    \n",
    "    Args:\n",
    "    * model - fitted OLS model from statsmodels\n",
    "    * y - observed values\n",
    "    '''\n",
    "    fitted_vals = model.predict()\n",
    "    resids = model.resid\n",
    "\n",
    "    fig, ax = plt.subplots(1,2)\n",
    "    \n",
    "    sns.regplot(x=fitted_vals, y=y, lowess=True, ax=ax[0], line_kws={'color': 'red'})\n",
    "    ax[0].set_title('Observed vs. Predicted Values', fontsize=16)\n",
    "    ax[0].set(xlabel='Predicted', ylabel='Observed')\n",
    "\n",
    "    sns.regplot(x=fitted_vals, y=resids, lowess=True, ax=ax[1], line_kws={'color': 'red'})\n",
    "    ax[1].set_title('Residuals vs. Predicted Values', fontsize=16)\n",
    "    ax[1].set(xlabel='Predicted', ylabel='Residuals')\n",
    "    \n",
    "linearity_test(lin_reg, y)  "
   ]
  },
  {
   "cell_type": "markdown",
   "metadata": {},
   "source": [
    "* To detect nonlinearity one can inspect plots of observed vs. predicted values or residuals vs. predicted values. \n",
    "* The desired outcome is that points are symmetrically distributed around a diagonal line in the former plot or \n",
    "around horizontal line in the latter one. \n",
    "* n both cases with a low linearity of residuals can be seen."
   ]
  },
  {
   "cell_type": "markdown",
   "metadata": {},
   "source": [
    "#### Rainbow test "
   ]
  },
  {
   "cell_type": "markdown",
   "metadata": {},
   "source": [
    "It is done to check the linearity of the residuals for a linear regression model.\n",
    "Linearity of residuals is preferred."
   ]
  },
  {
   "cell_type": "code",
   "execution_count": 135,
   "metadata": {},
   "outputs": [
    {
     "data": {
      "text/plain": [
       "(0.9919627557575846, 0.5870064807463823)"
      ]
     },
     "execution_count": 135,
     "metadata": {},
     "output_type": "execute_result"
    }
   ],
   "source": [
    "import statsmodels.api as sm\n",
    "sm.stats.diagnostic.linear_rainbow(res=lin_reg, frac=0.5)"
   ]
  },
  {
   "cell_type": "code",
   "execution_count": 136,
   "metadata": {},
   "outputs": [
    {
     "data": {
      "image/png": "[encoded data removed]",
      "text/plain": [
       "<Figure size 864x360 with 1 Axes>"
      ]
     },
     "metadata": {},
     "output_type": "display_data"
    }
   ],
   "source": [
    "import scipy.stats as stats\n",
    "import pylab\n",
    "from statsmodels.graphics.gofplots import ProbPlot\n",
    "st_residual = lin_reg.get_influence().resid_studentized_internal\n",
    "stats.probplot(st_residual, dist=\"norm\", plot = pylab)\n",
    "plt.show()"
   ]
  },
  {
   "cell_type": "markdown",
   "metadata": {},
   "source": [
    "    EXPECTATION : THE MEAN VALUE OF THE RESIDUALS SHOULD BE ZERO.\n",
    "    LET's CHECK"
   ]
  },
  {
   "cell_type": "code",
   "execution_count": 137,
   "metadata": {},
   "outputs": [
    {
     "data": {
      "text/plain": [
       "-1.8213498342373422e-13"
      ]
     },
     "execution_count": 137,
     "metadata": {},
     "output_type": "execute_result"
    }
   ],
   "source": [
    "lin_reg.resid.mean()"
   ]
  },
  {
   "cell_type": "markdown",
   "metadata": {},
   "source": [
    "Very much close to zero. -4.182762607161433e-12"
   ]
  },
  {
   "cell_type": "markdown",
   "metadata": {},
   "source": [
    "So, linearity is present."
   ]
  },
  {
   "cell_type": "markdown",
   "metadata": {},
   "source": [
    "##### Assumption 4 -  Homoscedasticity_test(using goldfeld test) OR (Beusch-Wagon Test)\n",
    "Homoscedacity :: If the residuals are symmetrically distributed across the trend , then it is called as homoscedacious.\n",
    "\n",
    "Heteroscedacity :: If the residuals are not symmetric across the trend, then it is called as heteroscedacious. In this the residuals can form an arrow shape or any other non symmetrical shape"
   ]
  },
  {
   "cell_type": "markdown",
   "metadata": {},
   "source": [
    "This test is based on the hytpothesis testing where null and alternate hypothesis are:\n",
    "* H0 = constant variance among residuals. (Homoscedacity)\n",
    "* Ha = Heteroscedacity.\n",
    "\n",
    "The residuals should be homoscedacious."
   ]
  },
  {
   "cell_type": "markdown",
   "metadata": {},
   "source": [
    "##### Goldfeld Test"
   ]
  },
  {
   "cell_type": "code",
   "execution_count": 138,
   "metadata": {},
   "outputs": [
    {
     "data": {
      "text/plain": [
       "[('F statistic', 1.110316578086014), ('p-value', 0.002278062534121216)]"
      ]
     },
     "execution_count": 138,
     "metadata": {},
     "output_type": "execute_result"
    },
    {
     "data": {
      "image/png": "[encoded data removed]",
      "text/plain": [
       "<Figure size 864x360 with 2 Axes>"
      ]
     },
     "metadata": {},
     "output_type": "display_data"
    }
   ],
   "source": [
    "from statsmodels.compat import lzip\n",
    "import statsmodels.stats.api as sms\n",
    "sns.set_style('darkgrid')\n",
    "sns.mpl.rcParams['figure.figsize'] = (12.0, 5.0)\n",
    "\n",
    "model = lin_reg\n",
    "fitted_vals = model.predict()\n",
    "resids = model.resid\n",
    "resids_standardized = model.get_influence().resid_studentized_internal\n",
    "fig, ax = plt.subplots(1,2)\n",
    "\n",
    "sns.regplot(x=fitted_vals, y=resids, lowess=True, ax=ax[0], line_kws={'color': 'red'})\n",
    "ax[0].set_title('Residuals vs Fitted', fontsize=16)\n",
    "ax[0].set(xlabel='Fitted Values', ylabel='Residuals')\n",
    "sns.regplot(x=fitted_vals, y=np.sqrt(np.abs(resids_standardized)), lowess=True, ax=ax[1], line_kws={'color': 'red'})\n",
    "ax[1].set_title('Scale-Location', fontsize=16)\n",
    "ax[1].set(xlabel='Fitted Values', ylabel='sqrt(abs(Residuals))')\n",
    "\n",
    "name = ['F statistic', 'p-value']\n",
    "test = sms.het_goldfeldquandt(model.resid, model.model.exog)\n",
    "lzip(name, test)"
   ]
  },
  {
   "cell_type": "markdown",
   "metadata": {},
   "source": [
    "We can also use two statistical tests: Breusch-Pagan and Goldfeld-Quandt. In both of them the null hypothesis assumes \n",
    "homoscedasticity and a p-value below a certain level (like 0.05)\n",
    "indicates we should reject the null in favor of heteroscedasticity.\n",
    "\n",
    "Here, p value is less than 0.05 so, it is homoscedasticity distribution.\n",
    "H0 = constant variance (Homoscedacity)\n",
    "Ha = Heteroscedacity"
   ]
  },
  {
   "cell_type": "markdown",
   "metadata": {},
   "source": [
    "##### Assumption 5- NO  MULTI COLLINEARITY"
   ]
  },
  {
   "cell_type": "markdown",
   "metadata": {},
   "source": [
    "The interpretation of VIF is as follows: the square root of a given variable’s VIF shows how much larger the standard error is,\n",
    "compared with what it would be if that predictor were uncorrelated with the other features in the model.\n",
    "If no features are correlated, then all values for VIF will be 1."
   ]
  },
  {
   "cell_type": "code",
   "execution_count": 139,
   "metadata": {},
   "outputs": [
    {
     "data": {
      "text/html": [
       "<div>\n",
       "<style scoped>\n",
       "    .dataframe tbody tr th:only-of-type {\n",
       "        vertical-align: middle;\n",
       "    }\n",
       "\n",
       "    .dataframe tbody tr th {\n",
       "        vertical-align: top;\n",
       "    }\n",
       "\n",
       "    .dataframe thead th {\n",
       "        text-align: right;\n",
       "    }\n",
       "</style>\n",
       "<table border=\"1\" class=\"dataframe\">\n",
       "  <thead>\n",
       "    <tr style=\"text-align: right;\">\n",
       "      <th></th>\n",
       "      <th>vif</th>\n",
       "    </tr>\n",
       "  </thead>\n",
       "  <tbody>\n",
       "    <tr>\n",
       "      <th>Year</th>\n",
       "      <td>2.005862</td>\n",
       "    </tr>\n",
       "    <tr>\n",
       "      <th>Kilometers_Driven</th>\n",
       "      <td>1.589414</td>\n",
       "    </tr>\n",
       "    <tr>\n",
       "      <th>Owner_Type</th>\n",
       "      <td>1.264383</td>\n",
       "    </tr>\n",
       "    <tr>\n",
       "      <th>Mileage</th>\n",
       "      <td>3.881345</td>\n",
       "    </tr>\n",
       "    <tr>\n",
       "      <th>Engine</th>\n",
       "      <td>11.039321</td>\n",
       "    </tr>\n",
       "    <tr>\n",
       "      <th>Power</th>\n",
       "      <td>9.804303</td>\n",
       "    </tr>\n",
       "    <tr>\n",
       "      <th>Seats</th>\n",
       "      <td>2.576414</td>\n",
       "    </tr>\n",
       "    <tr>\n",
       "      <th>Manufacturer_Audi</th>\n",
       "      <td>230.307655</td>\n",
       "    </tr>\n",
       "    <tr>\n",
       "      <th>Manufacturer_BMW</th>\n",
       "      <td>253.954858</td>\n",
       "    </tr>\n",
       "    <tr>\n",
       "      <th>Manufacturer_Bentley</th>\n",
       "      <td>2.071104</td>\n",
       "    </tr>\n",
       "    <tr>\n",
       "      <th>Manufacturer_Chevrolet</th>\n",
       "      <td>120.455276</td>\n",
       "    </tr>\n",
       "    <tr>\n",
       "      <th>Manufacturer_Datsun</th>\n",
       "      <td>14.123726</td>\n",
       "    </tr>\n",
       "    <tr>\n",
       "      <th>Manufacturer_Fiat</th>\n",
       "      <td>26.080518</td>\n",
       "    </tr>\n",
       "    <tr>\n",
       "      <th>Manufacturer_Force</th>\n",
       "      <td>4.031453</td>\n",
       "    </tr>\n",
       "    <tr>\n",
       "      <th>Manufacturer_Ford</th>\n",
       "      <td>287.934032</td>\n",
       "    </tr>\n",
       "    <tr>\n",
       "      <th>Manufacturer_Honda</th>\n",
       "      <td>547.551972</td>\n",
       "    </tr>\n",
       "    <tr>\n",
       "      <th>Manufacturer_Hyundai</th>\n",
       "      <td>906.448277</td>\n",
       "    </tr>\n",
       "    <tr>\n",
       "      <th>Manufacturer_Isuzu</th>\n",
       "      <td>4.030436</td>\n",
       "    </tr>\n",
       "    <tr>\n",
       "      <th>Manufacturer_Jaguar</th>\n",
       "      <td>41.332408</td>\n",
       "    </tr>\n",
       "    <tr>\n",
       "      <th>Manufacturer_Jeep</th>\n",
       "      <td>16.139587</td>\n",
       "    </tr>\n",
       "    <tr>\n",
       "      <th>Manufacturer_Lamborghini</th>\n",
       "      <td>2.069135</td>\n",
       "    </tr>\n",
       "    <tr>\n",
       "      <th>Manufacturer_Land</th>\n",
       "      <td>58.041709</td>\n",
       "    </tr>\n",
       "    <tr>\n",
       "      <th>Manufacturer_Mahindra</th>\n",
       "      <td>262.092693</td>\n",
       "    </tr>\n",
       "    <tr>\n",
       "      <th>Manufacturer_Maruti</th>\n",
       "      <td>969.007690</td>\n",
       "    </tr>\n",
       "    <tr>\n",
       "      <th>Manufacturer_Mercedes-Benz</th>\n",
       "      <td>305.433118</td>\n",
       "    </tr>\n",
       "    <tr>\n",
       "      <th>Manufacturer_Mini</th>\n",
       "      <td>27.165318</td>\n",
       "    </tr>\n",
       "    <tr>\n",
       "      <th>Manufacturer_Mitsubishi</th>\n",
       "      <td>28.063406</td>\n",
       "    </tr>\n",
       "    <tr>\n",
       "      <th>Manufacturer_Nissan</th>\n",
       "      <td>91.285552</td>\n",
       "    </tr>\n",
       "    <tr>\n",
       "      <th>Manufacturer_Porsche</th>\n",
       "      <td>19.378751</td>\n",
       "    </tr>\n",
       "    <tr>\n",
       "      <th>Manufacturer_Renault</th>\n",
       "      <td>143.712911</td>\n",
       "    </tr>\n",
       "    <tr>\n",
       "      <th>Manufacturer_Skoda</th>\n",
       "      <td>170.468266</td>\n",
       "    </tr>\n",
       "    <tr>\n",
       "      <th>Manufacturer_Smart</th>\n",
       "      <td>2.020681</td>\n",
       "    </tr>\n",
       "    <tr>\n",
       "      <th>Manufacturer_Tata</th>\n",
       "      <td>182.581470</td>\n",
       "    </tr>\n",
       "    <tr>\n",
       "      <th>Manufacturer_Toyota</th>\n",
       "      <td>385.363064</td>\n",
       "    </tr>\n",
       "    <tr>\n",
       "      <th>Manufacturer_Volkswagen</th>\n",
       "      <td>301.670211</td>\n",
       "    </tr>\n",
       "    <tr>\n",
       "      <th>Manufacturer_Volvo</th>\n",
       "      <td>22.168537</td>\n",
       "    </tr>\n",
       "    <tr>\n",
       "      <th>Location_Bangalore</th>\n",
       "      <td>2.476354</td>\n",
       "    </tr>\n",
       "    <tr>\n",
       "      <th>Location_Chennai</th>\n",
       "      <td>3.011353</td>\n",
       "    </tr>\n",
       "    <tr>\n",
       "      <th>Location_Coimbatore</th>\n",
       "      <td>3.537908</td>\n",
       "    </tr>\n",
       "    <tr>\n",
       "      <th>Location_Delhi</th>\n",
       "      <td>3.170235</td>\n",
       "    </tr>\n",
       "    <tr>\n",
       "      <th>Location_Hyderabad</th>\n",
       "      <td>3.844520</td>\n",
       "    </tr>\n",
       "    <tr>\n",
       "      <th>Location_Jaipur</th>\n",
       "      <td>2.694639</td>\n",
       "    </tr>\n",
       "    <tr>\n",
       "      <th>Location_Kochi</th>\n",
       "      <td>3.581381</td>\n",
       "    </tr>\n",
       "    <tr>\n",
       "      <th>Location_Kolkata</th>\n",
       "      <td>3.127942</td>\n",
       "    </tr>\n",
       "    <tr>\n",
       "      <th>Location_Mumbai</th>\n",
       "      <td>4.006742</td>\n",
       "    </tr>\n",
       "    <tr>\n",
       "      <th>Location_Pune</th>\n",
       "      <td>3.429656</td>\n",
       "    </tr>\n",
       "    <tr>\n",
       "      <th>Fuel_Type_Diesel</th>\n",
       "      <td>inf</td>\n",
       "    </tr>\n",
       "    <tr>\n",
       "      <th>Fuel_Type_LPG</th>\n",
       "      <td>1.198220</td>\n",
       "    </tr>\n",
       "    <tr>\n",
       "      <th>Fuel_Type_Petrol</th>\n",
       "      <td>inf</td>\n",
       "    </tr>\n",
       "    <tr>\n",
       "      <th>Transmission_Manual</th>\n",
       "      <td>2.266110</td>\n",
       "    </tr>\n",
       "    <tr>\n",
       "      <th>Mileage_units_kmpl</th>\n",
       "      <td>inf</td>\n",
       "    </tr>\n",
       "  </tbody>\n",
       "</table>\n",
       "</div>"
      ],
      "text/plain": [
       "                                   vif\n",
       "Year                          2.005862\n",
       "Kilometers_Driven             1.589414\n",
       "Owner_Type                    1.264383\n",
       "Mileage                       3.881345\n",
       "Engine                       11.039321\n",
       "Power                         9.804303\n",
       "Seats                         2.576414\n",
       "Manufacturer_Audi           230.307655\n",
       "Manufacturer_BMW            253.954858\n",
       "Manufacturer_Bentley          2.071104\n",
       "Manufacturer_Chevrolet      120.455276\n",
       "Manufacturer_Datsun          14.123726\n",
       "Manufacturer_Fiat            26.080518\n",
       "Manufacturer_Force            4.031453\n",
       "Manufacturer_Ford           287.934032\n",
       "Manufacturer_Honda          547.551972\n",
       "Manufacturer_Hyundai        906.448277\n",
       "Manufacturer_Isuzu            4.030436\n",
       "Manufacturer_Jaguar          41.332408\n",
       "Manufacturer_Jeep            16.139587\n",
       "Manufacturer_Lamborghini      2.069135\n",
       "Manufacturer_Land            58.041709\n",
       "Manufacturer_Mahindra       262.092693\n",
       "Manufacturer_Maruti         969.007690\n",
       "Manufacturer_Mercedes-Benz  305.433118\n",
       "Manufacturer_Mini            27.165318\n",
       "Manufacturer_Mitsubishi      28.063406\n",
       "Manufacturer_Nissan          91.285552\n",
       "Manufacturer_Porsche         19.378751\n",
       "Manufacturer_Renault        143.712911\n",
       "Manufacturer_Skoda          170.468266\n",
       "Manufacturer_Smart            2.020681\n",
       "Manufacturer_Tata           182.581470\n",
       "Manufacturer_Toyota         385.363064\n",
       "Manufacturer_Volkswagen     301.670211\n",
       "Manufacturer_Volvo           22.168537\n",
       "Location_Bangalore            2.476354\n",
       "Location_Chennai              3.011353\n",
       "Location_Coimbatore           3.537908\n",
       "Location_Delhi                3.170235\n",
       "Location_Hyderabad            3.844520\n",
       "Location_Jaipur               2.694639\n",
       "Location_Kochi                3.581381\n",
       "Location_Kolkata              3.127942\n",
       "Location_Mumbai               4.006742\n",
       "Location_Pune                 3.429656\n",
       "Fuel_Type_Diesel                   inf\n",
       "Fuel_Type_LPG                 1.198220\n",
       "Fuel_Type_Petrol                   inf\n",
       "Transmission_Manual           2.266110\n",
       "Mileage_units_kmpl                 inf"
      ]
     },
     "execution_count": 139,
     "metadata": {},
     "output_type": "execute_result"
    }
   ],
   "source": [
    "from statsmodels.stats.outliers_influence import variance_inflation_factor\n",
    "\n",
    "vif = [variance_inflation_factor(X_constant.values, i) for i in range(X_constant.shape[1])]\n",
    "pd.DataFrame({'vif': vif[1:]}, index=X.columns)"
   ]
  },
  {
   "cell_type": "markdown",
   "metadata": {},
   "source": [
    "So, multicollinearity exists."
   ]
  },
  {
   "cell_type": "code",
   "execution_count": 140,
   "metadata": {},
   "outputs": [],
   "source": [
    "### Linear Regression - Machine Learning"
   ]
  },
  {
   "cell_type": "code",
   "execution_count": 141,
   "metadata": {},
   "outputs": [],
   "source": [
    "from sklearn.model_selection import train_test_split\n",
    "\n",
    "X_train,X_test,y_train,y_test= train_test_split(X,y,test_size=0.3,random_state=45)"
   ]
  },
  {
   "cell_type": "code",
   "execution_count": 142,
   "metadata": {},
   "outputs": [
    {
     "name": "stdout",
     "output_type": "stream",
     "text": [
      "R2 of train data:   0.9269832217344911\n",
      "R2 of test data:   0.9280547489956447\n"
     ]
    }
   ],
   "source": [
    "from sklearn.linear_model import LinearRegression\n",
    "from sklearn.metrics import  r2_score,mean_squared_error,mean_absolute_error\n",
    "lr=LinearRegression()\n",
    "lr.fit(X_train,y_train)\n",
    "ytrain_pred=lr.predict(X_train)\n",
    "print('R2 of train data:  ',r2_score(y_train,ytrain_pred))\n",
    "\n",
    "ytest_pred=lr.predict(X_test)\n",
    "print('R2 of test data:  ',r2_score(y_test,ytest_pred))"
   ]
  },
  {
   "cell_type": "markdown",
   "metadata": {},
   "source": [
    "## Regularization"
   ]
  },
  {
   "cell_type": "code",
   "execution_count": 143,
   "metadata": {},
   "outputs": [],
   "source": [
    "from sklearn.linear_model import Lasso,LassoCV,Ridge,RidgeCV,ElasticNet,ElasticNetCV"
   ]
  },
  {
   "cell_type": "markdown",
   "metadata": {},
   "source": [
    "##### Lasso(L1) Regularization"
   ]
  },
  {
   "cell_type": "code",
   "execution_count": 144,
   "metadata": {},
   "outputs": [
    {
     "data": {
      "text/plain": [
       "0.01"
      ]
     },
     "execution_count": 144,
     "metadata": {},
     "output_type": "execute_result"
    }
   ],
   "source": [
    "n_alphas=50\n",
    "alphas= np.logspace(-2,0)\n",
    "\n",
    "lasso_cv=LassoCV(alphas=alphas)\n",
    "lasso_cv.fit(X, y)\n",
    "\n",
    "lasso_cv.alpha_"
   ]
  },
  {
   "cell_type": "code",
   "execution_count": 146,
   "metadata": {},
   "outputs": [
    {
     "name": "stdout",
     "output_type": "stream",
     "text": [
      "R2 of train data:   0.9269832217344911\n",
      "R2 of test data:   0.9280547489956447\n"
     ]
    }
   ],
   "source": [
    "lasso= Lasso(alpha=0.01)\n",
    "lasso.fit(X_train,y_train)\n",
    "\n",
    "y_train_pred= lasso.predict(X_train)\n",
    "y_test_pred=lasso.predict(X_test)\n",
    "\n",
    "print('R2 of train data:  ',r2_score(y_train,ytrain_pred))\n",
    "print('R2 of test data:  ',r2_score(y_test,ytest_pred))"
   ]
  },
  {
   "cell_type": "markdown",
   "metadata": {},
   "source": [
    "##### Ridge Regularization"
   ]
  },
  {
   "cell_type": "code",
   "execution_count": 147,
   "metadata": {},
   "outputs": [
    {
     "data": {
      "text/plain": [
       "0.6866488450042998"
      ]
     },
     "execution_count": 147,
     "metadata": {},
     "output_type": "execute_result"
    }
   ],
   "source": [
    "n_alphas=50\n",
    "alphas= np.logspace(-2,0)\n",
    "\n",
    "ridge_cv=RidgeCV(alphas=alphas,store_cv_values=True)\n",
    "ridge_cv.fit(X, y)\n",
    "\n",
    "ridge_cv.alpha_"
   ]
  },
  {
   "cell_type": "code",
   "execution_count": 148,
   "metadata": {},
   "outputs": [
    {
     "name": "stdout",
     "output_type": "stream",
     "text": [
      "R2 of train data:   0.9269832217344911\n",
      "R2 of test data:   0.9280547489956447\n"
     ]
    }
   ],
   "source": [
    "ridge= Ridge(alpha=0.0655128556859551)\n",
    "ridge.fit(X_train,y_train)\n",
    "\n",
    "y_train_pred= ridge.predict(X_train)\n",
    "y_test_pred=ridge.predict(X_test)\n",
    "\n",
    "print('R2 of train data:  ',r2_score(y_train,ytrain_pred))\n",
    "print('R2 of test data:  ',r2_score(y_test,ytest_pred))"
   ]
  },
  {
   "cell_type": "markdown",
   "metadata": {},
   "source": [
    "##### Elastic Net regression "
   ]
  },
  {
   "cell_type": "code",
   "execution_count": 149,
   "metadata": {},
   "outputs": [],
   "source": [
    "# Let's perform a cross-validation to find the best combination of alpha and l1_ratio\n",
    "from sklearn.linear_model import ElasticNetCV, ElasticNet\n",
    "from sklearn.metrics import r2_score\n",
    "\n",
    "cv_model = ElasticNetCV(l1_ratio=[.1, .5, .7, .9, .95, .99, .995, 1], eps=0.001, n_alphas=100, fit_intercept=True, \n",
    "                        normalize=True, precompute='auto', max_iter=2000, tol=0.0001, cv=5, \n",
    "                        copy_X=True, verbose=0, n_jobs=-1, positive=False, random_state=None, selection='cyclic')"
   ]
  },
  {
   "cell_type": "code",
   "execution_count": 150,
   "metadata": {},
   "outputs": [
    {
     "data": {
      "text/plain": [
       "ElasticNetCV(alphas=None, copy_X=True, cv=5, eps=0.001, fit_intercept=True,\n",
       "             l1_ratio=[0.1, 0.5, 0.7, 0.9, 0.95, 0.99, 0.995, 1], max_iter=2000,\n",
       "             n_alphas=100, n_jobs=-1, normalize=True, positive=False,\n",
       "             precompute='auto', random_state=None, selection='cyclic',\n",
       "             tol=0.0001, verbose=0)"
      ]
     },
     "execution_count": 150,
     "metadata": {},
     "output_type": "execute_result"
    }
   ],
   "source": [
    "cv_model.fit(X_train, y_train)"
   ]
  },
  {
   "cell_type": "code",
   "execution_count": 151,
   "metadata": {},
   "outputs": [
    {
     "name": "stdout",
     "output_type": "stream",
     "text": [
      "Optimal alpha: 0.00001151\n",
      "Optimal l1_ratio: 0.900\n",
      "Number of iterations 246\n"
     ]
    }
   ],
   "source": [
    "print('Optimal alpha: %.8f'%cv_model.alpha_)\n",
    "print('Optimal l1_ratio: %.3f'%cv_model.l1_ratio_)\n",
    "print('Number of iterations %d'%cv_model.n_iter_)"
   ]
  },
  {
   "cell_type": "code",
   "execution_count": 152,
   "metadata": {},
   "outputs": [
    {
     "data": {
      "text/plain": [
       "ElasticNet(alpha=1.1505094704635316e-05, copy_X=True, fit_intercept=True,\n",
       "           l1_ratio=0.9, max_iter=246, normalize=True, positive=False,\n",
       "           precompute=False, random_state=None, selection='cyclic', tol=0.0001,\n",
       "           warm_start=False)"
      ]
     },
     "execution_count": 152,
     "metadata": {},
     "output_type": "execute_result"
    }
   ],
   "source": [
    "# train model with best parameters from CV\n",
    "model = ElasticNet(l1_ratio=cv_model.l1_ratio_, alpha = cv_model.alpha_, max_iter=cv_model.n_iter_, fit_intercept=True, normalize = True)\n",
    "model.fit(X_train, y_train)"
   ]
  },
  {
   "cell_type": "code",
   "execution_count": 153,
   "metadata": {},
   "outputs": [
    {
     "name": "stdout",
     "output_type": "stream",
     "text": [
      "0.9269141876242681\n"
     ]
    }
   ],
   "source": [
    "print(r2_score(y_train, model.predict(X_train))) # training data performance"
   ]
  },
  {
   "cell_type": "code",
   "execution_count": 154,
   "metadata": {},
   "outputs": [
    {
     "name": "stdout",
     "output_type": "stream",
     "text": [
      "0.9277469996029999\n"
     ]
    }
   ],
   "source": [
    "print(r2_score(y_test, model.predict(X_test))) # test data performance"
   ]
  },
  {
   "cell_type": "code",
   "execution_count": null,
   "metadata": {},
   "outputs": [],
   "source": []
  }
 ],
 "metadata": {
  "kernelspec": {
   "display_name": "Python 3",
   "language": "python",
   "name": "python3"
  },
  "language_info": {
   "codemirror_mode": {
    "name": "ipython",
    "version": 3
   },
   "file_extension": ".py",
   "mimetype": "text/x-python",
   "name": "python",
   "nbconvert_exporter": "python",
   "pygments_lexer": "ipython3",
   "version": "3.7.3"
  }
 },
 "nbformat": 4,
 "nbformat_minor": 2
}
